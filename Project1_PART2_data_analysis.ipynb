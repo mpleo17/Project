{
 "cells": [
  {
   "cell_type": "markdown",
   "metadata": {},
   "source": [
    "<h1 align = center>Exploratory Data Analysis </h1>\n",
    "<ul>The main objective here is the identification of primary independent variables that can significantly modify the target variable \"price\". Only those significant variables will be used for model building in the next part using Multipe Linear Regression.</ul>"
   ]
  },
  {
   "cell_type": "code",
   "execution_count": 1,
   "metadata": {},
   "outputs": [],
   "source": [
    "# importing all the important libraries at once\n",
    "import pandas as pd\n",
    "import numpy as np\n",
    "import matplotlib as mpl\n",
    "import matplotlib.pylab as plt\n",
    "import matplotlib.pyplot as plt\n",
    "%matplotlib inline\n",
    "import seaborn as sns\n",
    "from scipy import stats\n",
    "import statsmodels.formula.api as smf\n",
    "import statsmodels.api as sm\n",
    "from statsmodels.formula.api import ols\n",
    "from statsmodels.stats.anova import anova_lm\n",
    "from sklearn.linear_model import LinearRegression\n",
    "#ignore all the warnings\n",
    "import warnings\n",
    "warnings.filterwarnings('ignore')"
   ]
  },
  {
   "cell_type": "code",
   "execution_count": 2,
   "metadata": {},
   "outputs": [],
   "source": [
    "# loading the file \n",
    "file = \"D:/Python_DataScience/pandas-demo/Project1/clean0_project_1.csv \"\n",
    "df = pd.read_csv(file)\n",
    "df = df.iloc[:,1:]"
   ]
  },
  {
   "cell_type": "code",
   "execution_count": 3,
   "metadata": {},
   "outputs": [
    {
     "data": {
      "text/html": [
       "<div>\n",
       "<style scoped>\n",
       "    .dataframe tbody tr th:only-of-type {\n",
       "        vertical-align: middle;\n",
       "    }\n",
       "\n",
       "    .dataframe tbody tr th {\n",
       "        vertical-align: top;\n",
       "    }\n",
       "\n",
       "    .dataframe thead th {\n",
       "        text-align: right;\n",
       "    }\n",
       "</style>\n",
       "<table border=\"1\" class=\"dataframe\">\n",
       "  <thead>\n",
       "    <tr style=\"text-align: right;\">\n",
       "      <th></th>\n",
       "      <th>symboling</th>\n",
       "      <th>make</th>\n",
       "      <th>fuel-type</th>\n",
       "      <th>aspiration</th>\n",
       "      <th>num-of-doors</th>\n",
       "      <th>body-style</th>\n",
       "      <th>drive-wheels</th>\n",
       "      <th>engine-location</th>\n",
       "      <th>wheel-base</th>\n",
       "      <th>length</th>\n",
       "      <th>...</th>\n",
       "      <th>engine-size</th>\n",
       "      <th>fuel-system</th>\n",
       "      <th>bore</th>\n",
       "      <th>stroke</th>\n",
       "      <th>compression-ratio</th>\n",
       "      <th>horsepower</th>\n",
       "      <th>peak-rpm</th>\n",
       "      <th>city-mpg</th>\n",
       "      <th>highway-mpg</th>\n",
       "      <th>price</th>\n",
       "    </tr>\n",
       "  </thead>\n",
       "  <tbody>\n",
       "    <tr>\n",
       "      <th>0</th>\n",
       "      <td>3</td>\n",
       "      <td>alfa-romero</td>\n",
       "      <td>gas</td>\n",
       "      <td>std</td>\n",
       "      <td>two</td>\n",
       "      <td>convertible</td>\n",
       "      <td>rwd</td>\n",
       "      <td>front</td>\n",
       "      <td>88.6</td>\n",
       "      <td>168.8</td>\n",
       "      <td>...</td>\n",
       "      <td>130</td>\n",
       "      <td>mpfi</td>\n",
       "      <td>3.47</td>\n",
       "      <td>2.68</td>\n",
       "      <td>9.0</td>\n",
       "      <td>111.0</td>\n",
       "      <td>5000.0</td>\n",
       "      <td>21</td>\n",
       "      <td>27</td>\n",
       "      <td>13495.0</td>\n",
       "    </tr>\n",
       "    <tr>\n",
       "      <th>1</th>\n",
       "      <td>3</td>\n",
       "      <td>alfa-romero</td>\n",
       "      <td>gas</td>\n",
       "      <td>std</td>\n",
       "      <td>two</td>\n",
       "      <td>convertible</td>\n",
       "      <td>rwd</td>\n",
       "      <td>front</td>\n",
       "      <td>88.6</td>\n",
       "      <td>168.8</td>\n",
       "      <td>...</td>\n",
       "      <td>130</td>\n",
       "      <td>mpfi</td>\n",
       "      <td>3.47</td>\n",
       "      <td>2.68</td>\n",
       "      <td>9.0</td>\n",
       "      <td>111.0</td>\n",
       "      <td>5000.0</td>\n",
       "      <td>21</td>\n",
       "      <td>27</td>\n",
       "      <td>16500.0</td>\n",
       "    </tr>\n",
       "    <tr>\n",
       "      <th>2</th>\n",
       "      <td>1</td>\n",
       "      <td>alfa-romero</td>\n",
       "      <td>gas</td>\n",
       "      <td>std</td>\n",
       "      <td>two</td>\n",
       "      <td>hatchback</td>\n",
       "      <td>rwd</td>\n",
       "      <td>front</td>\n",
       "      <td>94.5</td>\n",
       "      <td>171.2</td>\n",
       "      <td>...</td>\n",
       "      <td>152</td>\n",
       "      <td>mpfi</td>\n",
       "      <td>2.68</td>\n",
       "      <td>3.47</td>\n",
       "      <td>9.0</td>\n",
       "      <td>154.0</td>\n",
       "      <td>5000.0</td>\n",
       "      <td>19</td>\n",
       "      <td>26</td>\n",
       "      <td>16500.0</td>\n",
       "    </tr>\n",
       "    <tr>\n",
       "      <th>3</th>\n",
       "      <td>2</td>\n",
       "      <td>audi</td>\n",
       "      <td>gas</td>\n",
       "      <td>std</td>\n",
       "      <td>four</td>\n",
       "      <td>sedan</td>\n",
       "      <td>fwd</td>\n",
       "      <td>front</td>\n",
       "      <td>99.8</td>\n",
       "      <td>176.6</td>\n",
       "      <td>...</td>\n",
       "      <td>109</td>\n",
       "      <td>mpfi</td>\n",
       "      <td>3.19</td>\n",
       "      <td>3.40</td>\n",
       "      <td>10.0</td>\n",
       "      <td>102.0</td>\n",
       "      <td>5500.0</td>\n",
       "      <td>24</td>\n",
       "      <td>30</td>\n",
       "      <td>13950.0</td>\n",
       "    </tr>\n",
       "    <tr>\n",
       "      <th>4</th>\n",
       "      <td>2</td>\n",
       "      <td>audi</td>\n",
       "      <td>gas</td>\n",
       "      <td>std</td>\n",
       "      <td>four</td>\n",
       "      <td>sedan</td>\n",
       "      <td>4wd</td>\n",
       "      <td>front</td>\n",
       "      <td>99.4</td>\n",
       "      <td>176.6</td>\n",
       "      <td>...</td>\n",
       "      <td>136</td>\n",
       "      <td>mpfi</td>\n",
       "      <td>3.19</td>\n",
       "      <td>3.40</td>\n",
       "      <td>8.0</td>\n",
       "      <td>115.0</td>\n",
       "      <td>5500.0</td>\n",
       "      <td>18</td>\n",
       "      <td>22</td>\n",
       "      <td>17450.0</td>\n",
       "    </tr>\n",
       "  </tbody>\n",
       "</table>\n",
       "<p>5 rows × 25 columns</p>\n",
       "</div>"
      ],
      "text/plain": [
       "   symboling         make fuel-type aspiration num-of-doors   body-style  \\\n",
       "0          3  alfa-romero       gas        std          two  convertible   \n",
       "1          3  alfa-romero       gas        std          two  convertible   \n",
       "2          1  alfa-romero       gas        std          two    hatchback   \n",
       "3          2         audi       gas        std         four        sedan   \n",
       "4          2         audi       gas        std         four        sedan   \n",
       "\n",
       "  drive-wheels engine-location  wheel-base  length  ...  engine-size  \\\n",
       "0          rwd           front        88.6   168.8  ...          130   \n",
       "1          rwd           front        88.6   168.8  ...          130   \n",
       "2          rwd           front        94.5   171.2  ...          152   \n",
       "3          fwd           front        99.8   176.6  ...          109   \n",
       "4          4wd           front        99.4   176.6  ...          136   \n",
       "\n",
       "   fuel-system  bore stroke compression-ratio  horsepower peak-rpm  city-mpg  \\\n",
       "0         mpfi  3.47   2.68               9.0       111.0   5000.0        21   \n",
       "1         mpfi  3.47   2.68               9.0       111.0   5000.0        21   \n",
       "2         mpfi  2.68   3.47               9.0       154.0   5000.0        19   \n",
       "3         mpfi  3.19   3.40              10.0       102.0   5500.0        24   \n",
       "4         mpfi  3.19   3.40               8.0       115.0   5500.0        18   \n",
       "\n",
       "   highway-mpg    price  \n",
       "0           27  13495.0  \n",
       "1           27  16500.0  \n",
       "2           26  16500.0  \n",
       "3           30  13950.0  \n",
       "4           22  17450.0  \n",
       "\n",
       "[5 rows x 25 columns]"
      ]
     },
     "execution_count": 3,
     "metadata": {},
     "output_type": "execute_result"
    }
   ],
   "source": [
    "# printing the first few rows\n",
    "df.head(5)"
   ]
  },
  {
   "cell_type": "code",
   "execution_count": 4,
   "metadata": {},
   "outputs": [
    {
     "data": {
      "text/html": [
       "<div>\n",
       "<style scoped>\n",
       "    .dataframe tbody tr th:only-of-type {\n",
       "        vertical-align: middle;\n",
       "    }\n",
       "\n",
       "    .dataframe tbody tr th {\n",
       "        vertical-align: top;\n",
       "    }\n",
       "\n",
       "    .dataframe thead th {\n",
       "        text-align: right;\n",
       "    }\n",
       "</style>\n",
       "<table border=\"1\" class=\"dataframe\">\n",
       "  <thead>\n",
       "    <tr style=\"text-align: right;\">\n",
       "      <th></th>\n",
       "      <th>symboling</th>\n",
       "      <th>make</th>\n",
       "      <th>fuel_type</th>\n",
       "      <th>aspiration</th>\n",
       "      <th>num_of_doors</th>\n",
       "      <th>body_style</th>\n",
       "      <th>drive_wheels</th>\n",
       "      <th>engine_location</th>\n",
       "      <th>wheel_base</th>\n",
       "      <th>length</th>\n",
       "      <th>...</th>\n",
       "      <th>engine_size</th>\n",
       "      <th>fuel_system</th>\n",
       "      <th>bore</th>\n",
       "      <th>stroke</th>\n",
       "      <th>compression_ratio</th>\n",
       "      <th>horsepower</th>\n",
       "      <th>peak_rpm</th>\n",
       "      <th>city_mpg</th>\n",
       "      <th>highway_mpg</th>\n",
       "      <th>price</th>\n",
       "    </tr>\n",
       "  </thead>\n",
       "  <tbody>\n",
       "    <tr>\n",
       "      <th>0</th>\n",
       "      <td>3</td>\n",
       "      <td>alfa-romero</td>\n",
       "      <td>gas</td>\n",
       "      <td>std</td>\n",
       "      <td>two</td>\n",
       "      <td>convertible</td>\n",
       "      <td>rwd</td>\n",
       "      <td>front</td>\n",
       "      <td>88.6</td>\n",
       "      <td>168.8</td>\n",
       "      <td>...</td>\n",
       "      <td>130</td>\n",
       "      <td>mpfi</td>\n",
       "      <td>3.47</td>\n",
       "      <td>2.68</td>\n",
       "      <td>9.0</td>\n",
       "      <td>111.0</td>\n",
       "      <td>5000.0</td>\n",
       "      <td>21</td>\n",
       "      <td>27</td>\n",
       "      <td>13495.0</td>\n",
       "    </tr>\n",
       "    <tr>\n",
       "      <th>1</th>\n",
       "      <td>3</td>\n",
       "      <td>alfa-romero</td>\n",
       "      <td>gas</td>\n",
       "      <td>std</td>\n",
       "      <td>two</td>\n",
       "      <td>convertible</td>\n",
       "      <td>rwd</td>\n",
       "      <td>front</td>\n",
       "      <td>88.6</td>\n",
       "      <td>168.8</td>\n",
       "      <td>...</td>\n",
       "      <td>130</td>\n",
       "      <td>mpfi</td>\n",
       "      <td>3.47</td>\n",
       "      <td>2.68</td>\n",
       "      <td>9.0</td>\n",
       "      <td>111.0</td>\n",
       "      <td>5000.0</td>\n",
       "      <td>21</td>\n",
       "      <td>27</td>\n",
       "      <td>16500.0</td>\n",
       "    </tr>\n",
       "    <tr>\n",
       "      <th>2</th>\n",
       "      <td>1</td>\n",
       "      <td>alfa-romero</td>\n",
       "      <td>gas</td>\n",
       "      <td>std</td>\n",
       "      <td>two</td>\n",
       "      <td>hatchback</td>\n",
       "      <td>rwd</td>\n",
       "      <td>front</td>\n",
       "      <td>94.5</td>\n",
       "      <td>171.2</td>\n",
       "      <td>...</td>\n",
       "      <td>152</td>\n",
       "      <td>mpfi</td>\n",
       "      <td>2.68</td>\n",
       "      <td>3.47</td>\n",
       "      <td>9.0</td>\n",
       "      <td>154.0</td>\n",
       "      <td>5000.0</td>\n",
       "      <td>19</td>\n",
       "      <td>26</td>\n",
       "      <td>16500.0</td>\n",
       "    </tr>\n",
       "    <tr>\n",
       "      <th>3</th>\n",
       "      <td>2</td>\n",
       "      <td>audi</td>\n",
       "      <td>gas</td>\n",
       "      <td>std</td>\n",
       "      <td>four</td>\n",
       "      <td>sedan</td>\n",
       "      <td>fwd</td>\n",
       "      <td>front</td>\n",
       "      <td>99.8</td>\n",
       "      <td>176.6</td>\n",
       "      <td>...</td>\n",
       "      <td>109</td>\n",
       "      <td>mpfi</td>\n",
       "      <td>3.19</td>\n",
       "      <td>3.40</td>\n",
       "      <td>10.0</td>\n",
       "      <td>102.0</td>\n",
       "      <td>5500.0</td>\n",
       "      <td>24</td>\n",
       "      <td>30</td>\n",
       "      <td>13950.0</td>\n",
       "    </tr>\n",
       "    <tr>\n",
       "      <th>4</th>\n",
       "      <td>2</td>\n",
       "      <td>audi</td>\n",
       "      <td>gas</td>\n",
       "      <td>std</td>\n",
       "      <td>four</td>\n",
       "      <td>sedan</td>\n",
       "      <td>4wd</td>\n",
       "      <td>front</td>\n",
       "      <td>99.4</td>\n",
       "      <td>176.6</td>\n",
       "      <td>...</td>\n",
       "      <td>136</td>\n",
       "      <td>mpfi</td>\n",
       "      <td>3.19</td>\n",
       "      <td>3.40</td>\n",
       "      <td>8.0</td>\n",
       "      <td>115.0</td>\n",
       "      <td>5500.0</td>\n",
       "      <td>18</td>\n",
       "      <td>22</td>\n",
       "      <td>17450.0</td>\n",
       "    </tr>\n",
       "  </tbody>\n",
       "</table>\n",
       "<p>5 rows × 25 columns</p>\n",
       "</div>"
      ],
      "text/plain": [
       "   symboling         make fuel_type aspiration num_of_doors   body_style  \\\n",
       "0          3  alfa-romero       gas        std          two  convertible   \n",
       "1          3  alfa-romero       gas        std          two  convertible   \n",
       "2          1  alfa-romero       gas        std          two    hatchback   \n",
       "3          2         audi       gas        std         four        sedan   \n",
       "4          2         audi       gas        std         four        sedan   \n",
       "\n",
       "  drive_wheels engine_location  wheel_base  length  ...  engine_size  \\\n",
       "0          rwd           front        88.6   168.8  ...          130   \n",
       "1          rwd           front        88.6   168.8  ...          130   \n",
       "2          rwd           front        94.5   171.2  ...          152   \n",
       "3          fwd           front        99.8   176.6  ...          109   \n",
       "4          4wd           front        99.4   176.6  ...          136   \n",
       "\n",
       "   fuel_system  bore stroke compression_ratio  horsepower peak_rpm  city_mpg  \\\n",
       "0         mpfi  3.47   2.68               9.0       111.0   5000.0        21   \n",
       "1         mpfi  3.47   2.68               9.0       111.0   5000.0        21   \n",
       "2         mpfi  2.68   3.47               9.0       154.0   5000.0        19   \n",
       "3         mpfi  3.19   3.40              10.0       102.0   5500.0        24   \n",
       "4         mpfi  3.19   3.40               8.0       115.0   5500.0        18   \n",
       "\n",
       "   highway_mpg    price  \n",
       "0           27  13495.0  \n",
       "1           27  16500.0  \n",
       "2           26  16500.0  \n",
       "3           30  13950.0  \n",
       "4           22  17450.0  \n",
       "\n",
       "[5 rows x 25 columns]"
      ]
     },
     "execution_count": 4,
     "metadata": {},
     "output_type": "execute_result"
    }
   ],
   "source": [
    "# renaming the columns \n",
    "df.rename(columns={\"fuel-type\":\"fuel_type\", \"num-of-doors\": \"num_of_doors\",\"body-style\":\"body_style\",\n",
    "         \"drive-wheels\":\"drive_wheels\",\"engine-location\":\"engine_location\",\"wheel-base\":\"wheel_base\", \"curb-weight\":\"curb_weight\",\"engine-type\":\"engine_type\",\n",
    "         \"num-of-cylinders\":\"num_of_cylinders\", \"engine-size\":\"engine_size\",\"fuel-system\":\"fuel_system\",\"compression-ratio\":\"compression_ratio\", \"peak-rpm\":\"peak_rpm\",\"city-mpg\":\"city_mpg\",\"highway-mpg\":\"highway_mpg\"},inplace = True)\n",
    "df.head(5)"
   ]
  },
  {
   "cell_type": "markdown",
   "metadata": {},
   "source": [
    "Checking the number of row entries, data type of each column entries and the null values for each column"
   ]
  },
  {
   "cell_type": "code",
   "execution_count": 5,
   "metadata": {},
   "outputs": [
    {
     "name": "stdout",
     "output_type": "stream",
     "text": [
      "<class 'pandas.core.frame.DataFrame'>\n",
      "RangeIndex: 201 entries, 0 to 200\n",
      "Data columns (total 25 columns):\n",
      " #   Column             Non-Null Count  Dtype  \n",
      "---  ------             --------------  -----  \n",
      " 0   symboling          201 non-null    int64  \n",
      " 1   make               201 non-null    object \n",
      " 2   fuel_type          201 non-null    object \n",
      " 3   aspiration         201 non-null    object \n",
      " 4   num_of_doors       201 non-null    object \n",
      " 5   body_style         201 non-null    object \n",
      " 6   drive_wheels       201 non-null    object \n",
      " 7   engine_location    201 non-null    object \n",
      " 8   wheel_base         201 non-null    float64\n",
      " 9   length             201 non-null    float64\n",
      " 10  width              201 non-null    float64\n",
      " 11  height             201 non-null    float64\n",
      " 12  curb_weight        201 non-null    int64  \n",
      " 13  engine_type        201 non-null    object \n",
      " 14  num_of_cylinders   201 non-null    object \n",
      " 15  engine_size        201 non-null    int64  \n",
      " 16  fuel_system        201 non-null    object \n",
      " 17  bore               201 non-null    float64\n",
      " 18  stroke             201 non-null    float64\n",
      " 19  compression_ratio  201 non-null    float64\n",
      " 20  horsepower         201 non-null    float64\n",
      " 21  peak_rpm           201 non-null    float64\n",
      " 22  city_mpg           201 non-null    int64  \n",
      " 23  highway_mpg        201 non-null    int64  \n",
      " 24  price              201 non-null    float64\n",
      "dtypes: float64(10), int64(5), object(10)\n",
      "memory usage: 31.5+ KB\n"
     ]
    }
   ],
   "source": [
    "df.info()"
   ]
  },
  {
   "cell_type": "markdown",
   "metadata": {},
   "source": [
    "## Descriptive Statistics"
   ]
  },
  {
   "cell_type": "code",
   "execution_count": 6,
   "metadata": {},
   "outputs": [
    {
     "data": {
      "text/html": [
       "<div>\n",
       "<style scoped>\n",
       "    .dataframe tbody tr th:only-of-type {\n",
       "        vertical-align: middle;\n",
       "    }\n",
       "\n",
       "    .dataframe tbody tr th {\n",
       "        vertical-align: top;\n",
       "    }\n",
       "\n",
       "    .dataframe thead th {\n",
       "        text-align: right;\n",
       "    }\n",
       "</style>\n",
       "<table border=\"1\" class=\"dataframe\">\n",
       "  <thead>\n",
       "    <tr style=\"text-align: right;\">\n",
       "      <th></th>\n",
       "      <th>symboling</th>\n",
       "      <th>wheel_base</th>\n",
       "      <th>length</th>\n",
       "      <th>width</th>\n",
       "      <th>height</th>\n",
       "      <th>curb_weight</th>\n",
       "      <th>engine_size</th>\n",
       "      <th>bore</th>\n",
       "      <th>stroke</th>\n",
       "      <th>compression_ratio</th>\n",
       "      <th>horsepower</th>\n",
       "      <th>peak_rpm</th>\n",
       "      <th>city_mpg</th>\n",
       "      <th>highway_mpg</th>\n",
       "      <th>price</th>\n",
       "    </tr>\n",
       "  </thead>\n",
       "  <tbody>\n",
       "    <tr>\n",
       "      <th>count</th>\n",
       "      <td>201.000000</td>\n",
       "      <td>201.000000</td>\n",
       "      <td>201.000000</td>\n",
       "      <td>201.000000</td>\n",
       "      <td>201.000000</td>\n",
       "      <td>201.000000</td>\n",
       "      <td>201.000000</td>\n",
       "      <td>201.000000</td>\n",
       "      <td>201.000000</td>\n",
       "      <td>201.000000</td>\n",
       "      <td>201.000000</td>\n",
       "      <td>201.000000</td>\n",
       "      <td>201.000000</td>\n",
       "      <td>201.000000</td>\n",
       "      <td>201.000000</td>\n",
       "    </tr>\n",
       "    <tr>\n",
       "      <th>mean</th>\n",
       "      <td>0.840796</td>\n",
       "      <td>98.797015</td>\n",
       "      <td>174.200995</td>\n",
       "      <td>65.889055</td>\n",
       "      <td>53.766667</td>\n",
       "      <td>2555.666667</td>\n",
       "      <td>126.875622</td>\n",
       "      <td>3.330214</td>\n",
       "      <td>3.248099</td>\n",
       "      <td>10.164279</td>\n",
       "      <td>103.474641</td>\n",
       "      <td>5117.437274</td>\n",
       "      <td>25.179104</td>\n",
       "      <td>30.686567</td>\n",
       "      <td>13207.129353</td>\n",
       "    </tr>\n",
       "    <tr>\n",
       "      <th>std</th>\n",
       "      <td>1.254802</td>\n",
       "      <td>6.066366</td>\n",
       "      <td>12.322175</td>\n",
       "      <td>2.101471</td>\n",
       "      <td>2.447822</td>\n",
       "      <td>517.296727</td>\n",
       "      <td>41.546834</td>\n",
       "      <td>0.268097</td>\n",
       "      <td>0.322089</td>\n",
       "      <td>4.004965</td>\n",
       "      <td>37.375794</td>\n",
       "      <td>478.143941</td>\n",
       "      <td>6.423220</td>\n",
       "      <td>6.815150</td>\n",
       "      <td>7947.066342</td>\n",
       "    </tr>\n",
       "    <tr>\n",
       "      <th>min</th>\n",
       "      <td>-2.000000</td>\n",
       "      <td>86.600000</td>\n",
       "      <td>141.100000</td>\n",
       "      <td>60.300000</td>\n",
       "      <td>47.800000</td>\n",
       "      <td>1488.000000</td>\n",
       "      <td>61.000000</td>\n",
       "      <td>2.540000</td>\n",
       "      <td>2.070000</td>\n",
       "      <td>7.000000</td>\n",
       "      <td>48.000000</td>\n",
       "      <td>4150.000000</td>\n",
       "      <td>13.000000</td>\n",
       "      <td>16.000000</td>\n",
       "      <td>5118.000000</td>\n",
       "    </tr>\n",
       "    <tr>\n",
       "      <th>25%</th>\n",
       "      <td>0.000000</td>\n",
       "      <td>94.500000</td>\n",
       "      <td>166.800000</td>\n",
       "      <td>64.100000</td>\n",
       "      <td>52.000000</td>\n",
       "      <td>2169.000000</td>\n",
       "      <td>98.000000</td>\n",
       "      <td>3.150000</td>\n",
       "      <td>3.100000</td>\n",
       "      <td>8.600000</td>\n",
       "      <td>70.000000</td>\n",
       "      <td>4800.000000</td>\n",
       "      <td>19.000000</td>\n",
       "      <td>25.000000</td>\n",
       "      <td>7775.000000</td>\n",
       "    </tr>\n",
       "    <tr>\n",
       "      <th>50%</th>\n",
       "      <td>1.000000</td>\n",
       "      <td>97.000000</td>\n",
       "      <td>173.200000</td>\n",
       "      <td>65.500000</td>\n",
       "      <td>54.100000</td>\n",
       "      <td>2414.000000</td>\n",
       "      <td>120.000000</td>\n",
       "      <td>3.310000</td>\n",
       "      <td>3.290000</td>\n",
       "      <td>9.000000</td>\n",
       "      <td>95.000000</td>\n",
       "      <td>5154.549539</td>\n",
       "      <td>24.000000</td>\n",
       "      <td>30.000000</td>\n",
       "      <td>10295.000000</td>\n",
       "    </tr>\n",
       "    <tr>\n",
       "      <th>75%</th>\n",
       "      <td>2.000000</td>\n",
       "      <td>102.400000</td>\n",
       "      <td>183.500000</td>\n",
       "      <td>66.600000</td>\n",
       "      <td>55.500000</td>\n",
       "      <td>2926.000000</td>\n",
       "      <td>141.000000</td>\n",
       "      <td>3.580000</td>\n",
       "      <td>3.410000</td>\n",
       "      <td>9.400000</td>\n",
       "      <td>116.000000</td>\n",
       "      <td>5500.000000</td>\n",
       "      <td>30.000000</td>\n",
       "      <td>34.000000</td>\n",
       "      <td>16500.000000</td>\n",
       "    </tr>\n",
       "    <tr>\n",
       "      <th>max</th>\n",
       "      <td>3.000000</td>\n",
       "      <td>120.900000</td>\n",
       "      <td>208.100000</td>\n",
       "      <td>72.000000</td>\n",
       "      <td>59.800000</td>\n",
       "      <td>4066.000000</td>\n",
       "      <td>326.000000</td>\n",
       "      <td>3.940000</td>\n",
       "      <td>4.170000</td>\n",
       "      <td>23.000000</td>\n",
       "      <td>262.000000</td>\n",
       "      <td>6600.000000</td>\n",
       "      <td>49.000000</td>\n",
       "      <td>54.000000</td>\n",
       "      <td>45400.000000</td>\n",
       "    </tr>\n",
       "  </tbody>\n",
       "</table>\n",
       "</div>"
      ],
      "text/plain": [
       "        symboling  wheel_base      length       width      height  \\\n",
       "count  201.000000  201.000000  201.000000  201.000000  201.000000   \n",
       "mean     0.840796   98.797015  174.200995   65.889055   53.766667   \n",
       "std      1.254802    6.066366   12.322175    2.101471    2.447822   \n",
       "min     -2.000000   86.600000  141.100000   60.300000   47.800000   \n",
       "25%      0.000000   94.500000  166.800000   64.100000   52.000000   \n",
       "50%      1.000000   97.000000  173.200000   65.500000   54.100000   \n",
       "75%      2.000000  102.400000  183.500000   66.600000   55.500000   \n",
       "max      3.000000  120.900000  208.100000   72.000000   59.800000   \n",
       "\n",
       "       curb_weight  engine_size        bore      stroke  compression_ratio  \\\n",
       "count   201.000000   201.000000  201.000000  201.000000         201.000000   \n",
       "mean   2555.666667   126.875622    3.330214    3.248099          10.164279   \n",
       "std     517.296727    41.546834    0.268097    0.322089           4.004965   \n",
       "min    1488.000000    61.000000    2.540000    2.070000           7.000000   \n",
       "25%    2169.000000    98.000000    3.150000    3.100000           8.600000   \n",
       "50%    2414.000000   120.000000    3.310000    3.290000           9.000000   \n",
       "75%    2926.000000   141.000000    3.580000    3.410000           9.400000   \n",
       "max    4066.000000   326.000000    3.940000    4.170000          23.000000   \n",
       "\n",
       "       horsepower     peak_rpm    city_mpg  highway_mpg         price  \n",
       "count  201.000000   201.000000  201.000000   201.000000    201.000000  \n",
       "mean   103.474641  5117.437274   25.179104    30.686567  13207.129353  \n",
       "std     37.375794   478.143941    6.423220     6.815150   7947.066342  \n",
       "min     48.000000  4150.000000   13.000000    16.000000   5118.000000  \n",
       "25%     70.000000  4800.000000   19.000000    25.000000   7775.000000  \n",
       "50%     95.000000  5154.549539   24.000000    30.000000  10295.000000  \n",
       "75%    116.000000  5500.000000   30.000000    34.000000  16500.000000  \n",
       "max    262.000000  6600.000000   49.000000    54.000000  45400.000000  "
      ]
     },
     "execution_count": 6,
     "metadata": {},
     "output_type": "execute_result"
    }
   ],
   "source": [
    "# showing the descriptive statistics for continuous  variables\n",
    "df.describe()"
   ]
  },
  {
   "cell_type": "markdown",
   "metadata": {},
   "source": [
    "The above table represents most of the details pertaining to the continuous variables such as mean, median, mode, quartiles, inter-quartile range, minimum, maximum and standard deviation for all the continuous variables. \n",
    "The target variable for this dataset is price of cars."
   ]
  },
  {
   "cell_type": "code",
   "execution_count": 7,
   "metadata": {},
   "outputs": [
    {
     "data": {
      "text/html": [
       "<div>\n",
       "<style scoped>\n",
       "    .dataframe tbody tr th:only-of-type {\n",
       "        vertical-align: middle;\n",
       "    }\n",
       "\n",
       "    .dataframe tbody tr th {\n",
       "        vertical-align: top;\n",
       "    }\n",
       "\n",
       "    .dataframe thead th {\n",
       "        text-align: right;\n",
       "    }\n",
       "</style>\n",
       "<table border=\"1\" class=\"dataframe\">\n",
       "  <thead>\n",
       "    <tr style=\"text-align: right;\">\n",
       "      <th></th>\n",
       "      <th>make</th>\n",
       "      <th>fuel_type</th>\n",
       "      <th>aspiration</th>\n",
       "      <th>num_of_doors</th>\n",
       "      <th>body_style</th>\n",
       "      <th>drive_wheels</th>\n",
       "      <th>engine_location</th>\n",
       "      <th>engine_type</th>\n",
       "      <th>num_of_cylinders</th>\n",
       "      <th>fuel_system</th>\n",
       "    </tr>\n",
       "  </thead>\n",
       "  <tbody>\n",
       "    <tr>\n",
       "      <th>count</th>\n",
       "      <td>201</td>\n",
       "      <td>201</td>\n",
       "      <td>201</td>\n",
       "      <td>201</td>\n",
       "      <td>201</td>\n",
       "      <td>201</td>\n",
       "      <td>201</td>\n",
       "      <td>201</td>\n",
       "      <td>201</td>\n",
       "      <td>201</td>\n",
       "    </tr>\n",
       "    <tr>\n",
       "      <th>unique</th>\n",
       "      <td>22</td>\n",
       "      <td>2</td>\n",
       "      <td>2</td>\n",
       "      <td>2</td>\n",
       "      <td>5</td>\n",
       "      <td>3</td>\n",
       "      <td>2</td>\n",
       "      <td>6</td>\n",
       "      <td>7</td>\n",
       "      <td>8</td>\n",
       "    </tr>\n",
       "    <tr>\n",
       "      <th>top</th>\n",
       "      <td>toyota</td>\n",
       "      <td>gas</td>\n",
       "      <td>std</td>\n",
       "      <td>four</td>\n",
       "      <td>sedan</td>\n",
       "      <td>fwd</td>\n",
       "      <td>front</td>\n",
       "      <td>ohc</td>\n",
       "      <td>four</td>\n",
       "      <td>mpfi</td>\n",
       "    </tr>\n",
       "    <tr>\n",
       "      <th>freq</th>\n",
       "      <td>32</td>\n",
       "      <td>181</td>\n",
       "      <td>165</td>\n",
       "      <td>115</td>\n",
       "      <td>94</td>\n",
       "      <td>118</td>\n",
       "      <td>198</td>\n",
       "      <td>145</td>\n",
       "      <td>157</td>\n",
       "      <td>92</td>\n",
       "    </tr>\n",
       "  </tbody>\n",
       "</table>\n",
       "</div>"
      ],
      "text/plain": [
       "          make fuel_type aspiration num_of_doors body_style drive_wheels  \\\n",
       "count      201       201        201          201        201          201   \n",
       "unique      22         2          2            2          5            3   \n",
       "top     toyota       gas        std         four      sedan          fwd   \n",
       "freq        32       181        165          115         94          118   \n",
       "\n",
       "       engine_location engine_type num_of_cylinders fuel_system  \n",
       "count              201         201              201         201  \n",
       "unique               2           6                7           8  \n",
       "top              front         ohc             four        mpfi  \n",
       "freq               198         145              157          92  "
      ]
     },
     "execution_count": 7,
     "metadata": {},
     "output_type": "execute_result"
    }
   ],
   "source": [
    "# descriptive statistics for the categorical variables \n",
    "df.describe(include=object)"
   ]
  },
  {
   "cell_type": "markdown",
   "metadata": {},
   "source": [
    "The above table represents details pertaining to the categorical variables such as count, unique values in each variable, the modal value and its frequency."
   ]
  },
  {
   "cell_type": "markdown",
   "metadata": {},
   "source": [
    "# Dealing with categorical variables:\n",
    "\n",
    "Let us deal with each categorical variable and decide whether the levels in each categorical variable have mean \"price\" (target variable) significantly different than the other levels within the same categorical variable using ANOVA and Tukey Cramer's Test."
   ]
  },
  {
   "cell_type": "markdown",
   "metadata": {},
   "source": [
    "### Categorical variable 1: \"make\":\n",
    "Since we have 22 different values for \"make\" using ANOVA will be lengthy and complicated. "
   ]
  },
  {
   "cell_type": "code",
   "execution_count": 8,
   "metadata": {},
   "outputs": [
    {
     "data": {
      "image/png": "[encoded data removed]",
      "text/plain": [
       "<Figure size 1440x648 with 1 Axes>"
      ]
     },
     "metadata": {
      "needs_background": "light"
     },
     "output_type": "display_data"
    }
   ],
   "source": [
    "# plotting the boxplots for \"body_style\"\n",
    "fig, ax = plt.subplots(figsize=(20,9))\n",
    "fig = df.boxplot('price', 'make', ax=ax, grid=False)"
   ]
  },
  {
   "cell_type": "code",
   "execution_count": 9,
   "metadata": {},
   "outputs": [
    {
     "name": "stdout",
     "output_type": "stream",
     "text": [
      "             df        sum_sq       mean_sq          F        PR(>F)\n",
      "C(make)    21.0  1.005272e+10  4.787009e+08  33.232103  1.068343e-50\n",
      "Residual  179.0  2.578454e+09  1.440477e+07        NaN           NaN\n"
     ]
    }
   ],
   "source": [
    "# performing ANOVA on \"body_style\"\n",
    "rehab_lm = ols('price ~ C(make)', data=df).fit()\n",
    "table9 = anova_lm(rehab_lm)\n",
    "print(table9)"
   ]
  },
  {
   "cell_type": "code",
   "execution_count": 10,
   "metadata": {},
   "outputs": [],
   "source": [
    "# tukey kramer test for comparing which two levels have significantly different means\n",
    "#print (sm.stats.multicomp.pairwise_tukeyhsd(df[\"price\"], df[\"make\"], alpha=0.05))"
   ]
  },
  {
   "cell_type": "markdown",
   "metadata": {},
   "source": [
    "Speaking by looking at the box plots, we can see that there is a significant difference in the means between the 22 different levels of \"make\" variable. Thus no need to perform tukey cramer test as it leads to 22C2 observations. Thus, the conclusion is that \"make\" is a significant independent categorical variable that affects the \"price\" variable."
   ]
  },
  {
   "cell_type": "markdown",
   "metadata": {},
   "source": [
    "### Categorical variable 2: \"body_style\":\n",
    "Here we have 5 different fields for this variable. Let us see if there is significant difference in the means for different levels for this variable."
   ]
  },
  {
   "cell_type": "code",
   "execution_count": 11,
   "metadata": {},
   "outputs": [
    {
     "data": {
      "image/png": "[encoded data removed]",
      "text/plain": [
       "<Figure size 576x432 with 1 Axes>"
      ]
     },
     "metadata": {
      "needs_background": "light"
     },
     "output_type": "display_data"
    }
   ],
   "source": [
    "# plotting the boxplots for \"body_style\"\n",
    "fig, ax = plt.subplots(figsize=(8,6))\n",
    "fig = df.boxplot('price', 'body_style', ax=ax, grid=False)"
   ]
  },
  {
   "cell_type": "code",
   "execution_count": 12,
   "metadata": {
    "scrolled": true
   },
   "outputs": [
    {
     "name": "stdout",
     "output_type": "stream",
     "text": [
      "                  df        sum_sq       mean_sq         F        PR(>F)\n",
      "C(body_style)    4.0  1.983646e+09  4.959114e+08  9.128752  8.779795e-07\n",
      "Residual       196.0  1.064753e+10  5.432412e+07       NaN           NaN\n"
     ]
    }
   ],
   "source": [
    "# performing ANOVA on \"body_style\"\n",
    "rehab_lm = ols('price ~ C(body_style)', data=df).fit()\n",
    "table9 = anova_lm(rehab_lm)\n",
    "print(table9)"
   ]
  },
  {
   "cell_type": "markdown",
   "metadata": {},
   "source": [
    "#### The \"body_style\" variable has F-value which indicates that not all means are approximately same. The Tukey Cramer's test is shown below:"
   ]
  },
  {
   "cell_type": "code",
   "execution_count": 13,
   "metadata": {
    "scrolled": false
   },
   "outputs": [
    {
     "name": "stdout",
     "output_type": "stream",
     "text": [
      "         Multiple Comparison of Means - Tukey HSD, FWER=0.05          \n",
      "======================================================================\n",
      "   group1     group2    meandiff  p-adj     lower      upper    reject\n",
      "----------------------------------------------------------------------\n",
      "convertible   hardtop       318.0    0.9 -10641.9651 11277.9651  False\n",
      "convertible hatchback -11933.0588 0.0018 -20575.8008 -3290.3168   True\n",
      "convertible     sedan  -7430.7447 0.1214 -15976.0231  1114.5338  False\n",
      "convertible     wagon    -9518.54 0.0395 -18744.2753  -292.8047   True\n",
      "    hardtop hatchback -12251.0588  0.001  -19836.365 -4665.7526   True\n",
      "    hardtop     sedan  -7748.7447  0.038 -15222.8108  -274.6785   True\n",
      "    hardtop     wagon    -9836.54 0.0105  -18079.966  -1593.114   True\n",
      "  hatchback     sedan   4502.3141 0.0016   1271.5527  7733.0756   True\n",
      "  hatchback     wagon   2414.5188 0.6114  -2332.0828  7161.1205  False\n",
      "      sedan     wagon  -2087.7953 0.6914  -6654.5252  2478.9345  False\n",
      "----------------------------------------------------------------------\n"
     ]
    }
   ],
   "source": [
    "# tukey kramer test for comparing which two levels have significantly different means\n",
    "print (sm.stats.multicomp.pairwise_tukeyhsd(df[\"price\"], df[\"body_style\"], alpha=0.05))"
   ]
  },
  {
   "cell_type": "markdown",
   "metadata": {},
   "source": [
    "### Categorical variable 3: \"aspiration\""
   ]
  },
  {
   "cell_type": "code",
   "execution_count": 14,
   "metadata": {},
   "outputs": [
    {
     "data": {
      "image/png": "[encoded data removed]",
      "text/plain": [
       "<Figure size 576x432 with 1 Axes>"
      ]
     },
     "metadata": {
      "needs_background": "light"
     },
     "output_type": "display_data"
    }
   ],
   "source": [
    "# plotting the boxplot for \"aspiration\" variable \n",
    "fig, ax = plt.subplots(figsize=(8,6))\n",
    "fig = df.boxplot('price', 'aspiration', ax=ax, grid=False)"
   ]
  },
  {
   "cell_type": "code",
   "execution_count": 15,
   "metadata": {},
   "outputs": [
    {
     "name": "stdout",
     "output_type": "stream",
     "text": [
      "                  df        sum_sq       mean_sq         F    PR(>F)\n",
      "C(aspiration)    1.0  4.073355e+08  4.073355e+08  6.631286  0.010746\n",
      "Residual       199.0  1.222384e+10  6.142632e+07       NaN       NaN\n"
     ]
    }
   ],
   "source": [
    "# performing ANOVA for \"aspiration\" variable \n",
    "rehab_lm = ols('price ~ C(aspiration)', data=df).fit()\n",
    "table9 = anova_lm(rehab_lm)\n",
    "print(table9)"
   ]
  },
  {
   "cell_type": "markdown",
   "metadata": {},
   "source": [
    "#### The F-value is 6.6 which gives us enough evidence to conclude that not all means are the same for the \"aspiraion\" variable."
   ]
  },
  {
   "cell_type": "code",
   "execution_count": 16,
   "metadata": {},
   "outputs": [
    {
     "name": "stdout",
     "output_type": "stream",
     "text": [
      "  Multiple Comparison of Means - Tukey HSD, FWER=0.05   \n",
      "========================================================\n",
      "group1 group2  meandiff p-adj   lower     upper   reject\n",
      "--------------------------------------------------------\n",
      "   std  turbo 3712.6237 0.0107 869.6072 6555.6403   True\n",
      "--------------------------------------------------------\n"
     ]
    }
   ],
   "source": [
    "# tukey kramer test for comparing which two groups have significantly different means\n",
    "print (sm.stats.multicomp.pairwise_tukeyhsd(df[\"price\"], df[\"aspiration\"], alpha=0.05))"
   ]
  },
  {
   "cell_type": "markdown",
   "metadata": {},
   "source": [
    "### Categorical Variable 4: \"fuel_type\""
   ]
  },
  {
   "cell_type": "code",
   "execution_count": 17,
   "metadata": {},
   "outputs": [
    {
     "data": {
      "image/png": "[encoded data removed]",
      "text/plain": [
       "<Figure size 576x432 with 1 Axes>"
      ]
     },
     "metadata": {
      "needs_background": "light"
     },
     "output_type": "display_data"
    }
   ],
   "source": [
    "# plotting the boxplots for the \"fuel_type\" variable\n",
    "fig, ax = plt.subplots(figsize=(8,6))\n",
    "fig = df.boxplot('price', 'fuel_type', ax=ax, grid=False)"
   ]
  },
  {
   "cell_type": "code",
   "execution_count": 18,
   "metadata": {},
   "outputs": [
    {
     "name": "stdout",
     "output_type": "stream",
     "text": [
      "                 df        sum_sq       mean_sq        F    PR(>F)\n",
      "C(fuel_type)    1.0  1.537432e+08  1.537432e+08  2.45202  0.118963\n",
      "Residual      199.0  1.247743e+10  6.270065e+07      NaN       NaN\n"
     ]
    }
   ],
   "source": [
    "# performing ANOVA on the \"fuel_type\" variable\n",
    "rehab_lm = ols('price ~ C(fuel_type)', data=df).fit()\n",
    "table9 = anova_lm(rehab_lm)\n",
    "print(table9)"
   ]
  },
  {
   "cell_type": "markdown",
   "metadata": {},
   "source": [
    "Since, the F-value is 2.4 we are not sure about commenting on the difference in the means between the levels in the \"fuel_type\" variable. The below Tukey Cramer test indicates that the means are not different significantly."
   ]
  },
  {
   "cell_type": "code",
   "execution_count": 19,
   "metadata": {},
   "outputs": [
    {
     "name": "stdout",
     "output_type": "stream",
     "text": [
      "  Multiple Comparison of Means - Tukey HSD, FWER=0.05   \n",
      "========================================================\n",
      "group1 group2  meandiff  p-adj   lower    upper   reject\n",
      "--------------------------------------------------------\n",
      "diesel    gas -2921.7412 0.119 -6601.142 757.6597  False\n",
      "--------------------------------------------------------\n"
     ]
    }
   ],
   "source": [
    "# tukey kramer test for comparing which two groups have significantly different means\n",
    "print (sm.stats.multicomp.pairwise_tukeyhsd(df[\"price\"], df[\"fuel_type\"], alpha=0.05))"
   ]
  },
  {
   "cell_type": "markdown",
   "metadata": {},
   "source": [
    "### Categorical variable 5: \"num_of_doors\""
   ]
  },
  {
   "cell_type": "code",
   "execution_count": 20,
   "metadata": {},
   "outputs": [
    {
     "data": {
      "image/png": "[encoded data removed]",
      "text/plain": [
       "<Figure size 576x432 with 1 Axes>"
      ]
     },
     "metadata": {
      "needs_background": "light"
     },
     "output_type": "display_data"
    }
   ],
   "source": [
    "# plotting the boxplots for \"num_of_doors\" variable\n",
    "fig, ax = plt.subplots(figsize=(8,6))\n",
    "fig = df.boxplot('price', 'num_of_doors', ax=ax, grid=False)"
   ]
  },
  {
   "cell_type": "code",
   "execution_count": 21,
   "metadata": {},
   "outputs": [
    {
     "name": "stdout",
     "output_type": "stream",
     "text": [
      "                    df        sum_sq       mean_sq         F    PR(>F)\n",
      "C(num_of_doors)    1.0  2.274569e+07  2.274569e+07  0.358997  0.549745\n",
      "Residual         199.0  1.260843e+10  6.335893e+07       NaN       NaN\n"
     ]
    }
   ],
   "source": [
    "# performing ANOVA for \"num_of_doors\" variable\n",
    "rehab_lm = ols('price ~ C(num_of_doors)', data=df).fit()\n",
    "table9 = anova_lm(rehab_lm)\n",
    "print(table9)"
   ]
  },
  {
   "cell_type": "markdown",
   "metadata": {},
   "source": [
    "#### Since, the F-value is 0.35, we can safely sy that the means of the levels involved in \"num_of_doors\" variable are almost the same statistically. The Tukey Cramers test below confirms the same."
   ]
  },
  {
   "cell_type": "code",
   "execution_count": 22,
   "metadata": {},
   "outputs": [
    {
     "name": "stdout",
     "output_type": "stream",
     "text": [
      "   Multiple Comparison of Means - Tukey HSD, FWER=0.05    \n",
      "==========================================================\n",
      "group1 group2  meandiff p-adj    lower      upper   reject\n",
      "----------------------------------------------------------\n",
      "  four    two -679.9069 0.5557 -2917.6032 1557.7894  False\n",
      "----------------------------------------------------------\n"
     ]
    }
   ],
   "source": [
    "# tukey kramer test for comparing which two groups have significantly different means\n",
    "print (sm.stats.multicomp.pairwise_tukeyhsd(df[\"price\"], df[\"num_of_doors\"], alpha=0.05))"
   ]
  },
  {
   "cell_type": "markdown",
   "metadata": {},
   "source": [
    "### Categorical Variable 6: \"drive_wheels\""
   ]
  },
  {
   "cell_type": "code",
   "execution_count": 23,
   "metadata": {},
   "outputs": [
    {
     "data": {
      "image/png": "[encoded data removed]",
      "text/plain": [
       "<Figure size 576x432 with 1 Axes>"
      ]
     },
     "metadata": {
      "needs_background": "light"
     },
     "output_type": "display_data"
    }
   ],
   "source": [
    "# plotting the boxplots for \"drive_wheels\" variable\n",
    "fig, ax = plt.subplots(figsize=(8,6))\n",
    "fig = df.boxplot('price', 'drive_wheels', ax=ax, grid=False)"
   ]
  },
  {
   "cell_type": "code",
   "execution_count": 24,
   "metadata": {},
   "outputs": [
    {
     "name": "stdout",
     "output_type": "stream",
     "text": [
      "                    df        sum_sq       mean_sq          F        PR(>F)\n",
      "C(drive_wheels)    2.0  5.141172e+09  2.570586e+09  67.954065  3.394544e-23\n",
      "Residual         198.0  7.490001e+09  3.782829e+07        NaN           NaN\n"
     ]
    }
   ],
   "source": [
    "# performing ANOVA on the \"drive_wheels\" variable\n",
    "rehab_lm = ols('price ~ C(drive_wheels)', data=df).fit()\n",
    "table9 = anova_lm(rehab_lm)\n",
    "print(table9)"
   ]
  },
  {
   "cell_type": "markdown",
   "metadata": {},
   "source": [
    "#### Since, the F-value is 67.95, it is safe to say that not all the means in the levels of \"drive_wheels\" are the same. To look at which levels have different means, Tukey Cramers test is shown below."
   ]
  },
  {
   "cell_type": "code",
   "execution_count": 25,
   "metadata": {},
   "outputs": [
    {
     "name": "stdout",
     "output_type": "stream",
     "text": [
      "    Multiple Comparison of Means - Tukey HSD, FWER=0.05     \n",
      "============================================================\n",
      "group1 group2  meandiff  p-adj    lower      upper    reject\n",
      "------------------------------------------------------------\n",
      "   4wd    fwd  -996.2203 0.8908 -6302.8676  4310.4269  False\n",
      "   4wd    rwd  9516.6133  0.001  4114.2428 14918.9838   True\n",
      "   fwd    rwd 10512.8337  0.001  8367.8304  12657.837   True\n",
      "------------------------------------------------------------\n"
     ]
    }
   ],
   "source": [
    "# tukey kramer test for comparing which two groups have significantly different means\n",
    "print (sm.stats.multicomp.pairwise_tukeyhsd(df[\"price\"], df[\"drive_wheels\"], alpha=0.05))"
   ]
  },
  {
   "cell_type": "markdown",
   "metadata": {},
   "source": [
    "#### In the above Tukey Cramer test, \"4wd\" and \"fwd don't have significant difference between the means. However, for the remaining pairs there is a significant difference. "
   ]
  },
  {
   "cell_type": "markdown",
   "metadata": {},
   "source": [
    "### Categorical Variable 7: \"engine_location\""
   ]
  },
  {
   "cell_type": "code",
   "execution_count": 26,
   "metadata": {},
   "outputs": [
    {
     "data": {
      "image/png": "[encoded data removed]",
      "text/plain": [
       "<Figure size 576x432 with 1 Axes>"
      ]
     },
     "metadata": {
      "needs_background": "light"
     },
     "output_type": "display_data"
    }
   ],
   "source": [
    "# plotting the boxplot for \"engine_location\"\n",
    "fig, ax = plt.subplots(figsize=(8,6))\n",
    "fig = df.boxplot('price', 'engine_location', ax=ax, grid=False)"
   ]
  },
  {
   "cell_type": "code",
   "execution_count": 27,
   "metadata": {},
   "outputs": [
    {
     "name": "stdout",
     "output_type": "stream",
     "text": [
      "                       df        sum_sq       mean_sq         F    PR(>F)\n",
      "C(engine_location)    1.0  1.384401e+09  1.384401e+09  24.49555  0.000002\n",
      "Residual            199.0  1.124677e+10  5.651644e+07       NaN       NaN\n"
     ]
    }
   ],
   "source": [
    "# performing ANOVA on \"engine_location\" \n",
    "rehab_lm = ols('price ~ C(engine_location)', data=df).fit()\n",
    "table9 = anova_lm(rehab_lm)\n",
    "print(table9)"
   ]
  },
  {
   "cell_type": "markdown",
   "metadata": {},
   "source": [
    "#### The F-value is 24.49, which is significant enough to conclude that not all means are the same for \"engine_location\" variable."
   ]
  },
  {
   "cell_type": "code",
   "execution_count": 28,
   "metadata": {},
   "outputs": [
    {
     "name": "stdout",
     "output_type": "stream",
     "text": [
      "    Multiple Comparison of Means - Tukey HSD, FWER=0.05    \n",
      "===========================================================\n",
      "group1 group2  meandiff  p-adj   lower      upper    reject\n",
      "-----------------------------------------------------------\n",
      " front   rear 21643.9141 0.001 13020.2955 30267.5328   True\n",
      "-----------------------------------------------------------\n"
     ]
    }
   ],
   "source": [
    "# tukey kramer test for comparing which two groups have significantly different means\n",
    "print (sm.stats.multicomp.pairwise_tukeyhsd(df[\"price\"], df[\"engine_location\"], alpha=0.05))"
   ]
  },
  {
   "cell_type": "markdown",
   "metadata": {},
   "source": [
    "### Categorical variable 8: \"engine_type\""
   ]
  },
  {
   "cell_type": "code",
   "execution_count": 29,
   "metadata": {},
   "outputs": [
    {
     "data": {
      "image/png": "[encoded data removed]",
      "text/plain": [
       "<Figure size 576x432 with 1 Axes>"
      ]
     },
     "metadata": {
      "needs_background": "light"
     },
     "output_type": "display_data"
    }
   ],
   "source": [
    "fig, ax = plt.subplots(figsize=(8,6))\n",
    "fig = df.boxplot('price', 'engine_type', ax=ax, grid=False)"
   ]
  },
  {
   "cell_type": "code",
   "execution_count": 30,
   "metadata": {},
   "outputs": [
    {
     "name": "stdout",
     "output_type": "stream",
     "text": [
      "                   df        sum_sq       mean_sq         F        PR(>F)\n",
      "C(engine_type)    5.0  2.545911e+09  5.091822e+08  9.845111  2.086549e-08\n",
      "Residual        195.0  1.008526e+10  5.171929e+07       NaN           NaN\n"
     ]
    }
   ],
   "source": [
    "# performing ANOVA on \"engine_variable\" \n",
    "rehab_lm = ols('price ~ C(engine_type)', data=df).fit()\n",
    "table9 = anova_lm(rehab_lm)\n",
    "print(table9)"
   ]
  },
  {
   "cell_type": "markdown",
   "metadata": {},
   "source": [
    "#### The F-value is 9.8 which is significant enough to conclude that not all means are the same for \"engine_type\" variable."
   ]
  },
  {
   "cell_type": "code",
   "execution_count": 31,
   "metadata": {},
   "outputs": [
    {
     "name": "stdout",
     "output_type": "stream",
     "text": [
      "     Multiple Comparison of Means - Tukey HSD, FWER=0.05      \n",
      "==============================================================\n",
      "group1 group2   meandiff  p-adj     lower      upper    reject\n",
      "--------------------------------------------------------------\n",
      "  dohc      l  -3488.8333 0.8219 -11939.3117  4961.6451  False\n",
      "  dohc    ohc   -6549.058 0.0325 -12766.7918  -331.3243   True\n",
      "  dohc   ohcf  -4377.8167 0.6021 -12394.6444   3639.011  False\n",
      "  dohc   ohcv   6981.9679 0.1527  -1304.4079 15268.3438  False\n",
      "  dohc  rotor  -5096.4167 0.7995 -17047.1978  6854.3645  False\n",
      "     l    ohc  -3060.2247 0.6911  -9277.9585  3157.5091  False\n",
      "     l   ohcf   -888.9833    0.9   -8905.811  7127.8444  False\n",
      "     l   ohcv  10470.8013 0.0047   2184.4255 18757.1771   True\n",
      "     l  rotor  -1607.5833    0.9 -13558.3645 10343.1978  False\n",
      "   ohc   ohcf   2171.2414  0.865  -3442.9509  7785.4336  False\n",
      "   ohc   ohcv   13531.026  0.001    7538.226  19523.826   True\n",
      "   ohc  rotor   1452.6414    0.9  -9038.8217 11944.1045  False\n",
      "  ohcf   ohcv  11359.7846  0.001   3516.1269 19203.4423   True\n",
      "  ohcf  rotor      -718.6    0.9 -12366.7806 10929.5806  False\n",
      "  ohcv  rotor -12078.3846 0.0425 -23913.6966  -243.0727   True\n",
      "--------------------------------------------------------------\n"
     ]
    }
   ],
   "source": [
    "# tukey kramer test for comparing which two groups have significantly different means\n",
    "print (sm.stats.multicomp.pairwise_tukeyhsd(df[\"price\"], df[\"engine_type\"], alpha=0.05))"
   ]
  },
  {
   "cell_type": "markdown",
   "metadata": {},
   "source": [
    "### Categorical variable 9: \"num_of_cylinders\" "
   ]
  },
  {
   "cell_type": "code",
   "execution_count": 32,
   "metadata": {},
   "outputs": [
    {
     "data": {
      "image/png": "[encoded data removed]",
      "text/plain": [
       "<Figure size 576x432 with 1 Axes>"
      ]
     },
     "metadata": {
      "needs_background": "light"
     },
     "output_type": "display_data"
    }
   ],
   "source": [
    "# plotting the boxplot for \"num_of_cylinders\" variable\n",
    "fig, ax = plt.subplots(figsize=(8,6))\n",
    "fig = df.boxplot('price', 'num_of_cylinders', ax=ax, grid=False)"
   ]
  },
  {
   "cell_type": "code",
   "execution_count": 33,
   "metadata": {},
   "outputs": [
    {
     "name": "stdout",
     "output_type": "stream",
     "text": [
      "                        df        sum_sq       mean_sq          F  \\\n",
      "C(num_of_cylinders)    6.0  7.951727e+09  1.325288e+09  54.943653   \n",
      "Residual             194.0  4.679446e+09  2.412085e+07        NaN   \n",
      "\n",
      "                           PR(>F)  \n",
      "C(num_of_cylinders)  2.870145e-39  \n",
      "Residual                      NaN  \n"
     ]
    }
   ],
   "source": [
    "# performing ANOVA for \"num_of_cylinders\" \n",
    "rehab_lm = ols('price ~ C(num_of_cylinders)', data=df).fit()\n",
    "table9 = anova_lm(rehab_lm)\n",
    "print(table9)"
   ]
  },
  {
   "cell_type": "code",
   "execution_count": 34,
   "metadata": {},
   "outputs": [
    {
     "name": "stdout",
     "output_type": "stream",
     "text": [
      "      Multiple Comparison of Means - Tukey HSD, FWER=0.05      \n",
      "===============================================================\n",
      "group1 group2   meandiff  p-adj     lower       upper    reject\n",
      "---------------------------------------------------------------\n",
      " eight   five    -16892.4  0.001 -25549.5007  -8235.2993   True\n",
      " eight   four -28596.8025  0.001 -36006.0067 -21187.5984   True\n",
      " eight    six -15228.1667  0.001 -23130.9822  -7325.3511   True\n",
      " eight  three    -33749.0  0.001 -50109.3825 -17388.6175   True\n",
      " eight twelve     -2900.0    0.9 -19260.3825  13460.3825  False\n",
      " eight    two    -25880.0  0.001 -36227.2144 -15532.7856   True\n",
      "  five   four -11704.4025  0.001 -16476.9126  -6931.8925   True\n",
      "  five    six   1664.2333    0.9  -3843.4921   7171.9588  False\n",
      "  five  three    -16856.6 0.0212 -32203.9992  -1509.2008   True\n",
      "  five twelve     13992.4 0.0996  -1354.9992  29339.7992  False\n",
      "  five    two     -8987.6 0.0362 -17644.7007   -330.4993   True\n",
      "  four    six  13368.6359  0.001  10161.4636  16575.8081   True\n",
      "  four  three  -5152.1975    0.9 -19831.8969    9527.502  False\n",
      "  four twelve  25696.8025  0.001  11017.1031   40376.502   True\n",
      "  four    two   2716.8025    0.9  -4692.4016  10126.0067  False\n",
      "   six  three -18520.8333 0.0052 -33455.7509  -3585.9158   True\n",
      "   six twelve  12328.1667   0.18  -2606.7509  27263.0842  False\n",
      "   six    two -10651.8333 0.0016 -18554.6489  -2749.0178   True\n",
      " three twelve     30849.0  0.001  10154.5712  51543.4288   True\n",
      " three    two      7869.0 0.7563  -8491.3825  24229.3825  False\n",
      "twelve    two    -22980.0  0.001 -39340.3825  -6619.6175   True\n",
      "---------------------------------------------------------------\n"
     ]
    }
   ],
   "source": [
    "# tukey kramer test for comparing which two groups have significantly different means\n",
    "print (sm.stats.multicomp.pairwise_tukeyhsd(df[\"price\"], df[\"num_of_cylinders\"], alpha=0.05))"
   ]
  },
  {
   "cell_type": "markdown",
   "metadata": {},
   "source": [
    "### Categorical Variable 10: \"fuel_system\""
   ]
  },
  {
   "cell_type": "code",
   "execution_count": 35,
   "metadata": {},
   "outputs": [
    {
     "data": {
      "image/png": "[encoded data removed]",
      "text/plain": [
       "<Figure size 576x432 with 1 Axes>"
      ]
     },
     "metadata": {
      "needs_background": "light"
     },
     "output_type": "display_data"
    }
   ],
   "source": [
    "# performing ANOVA on \"fuel_system\" variable\n",
    "fig, ax = plt.subplots(figsize=(8,6))\n",
    "fig = df.boxplot('price', 'fuel_system', ax=ax, grid=False)"
   ]
  },
  {
   "cell_type": "code",
   "execution_count": 36,
   "metadata": {},
   "outputs": [
    {
     "name": "stdout",
     "output_type": "stream",
     "text": [
      "                   df        sum_sq       mean_sq          F        PR(>F)\n",
      "C(fuel_system)    7.0  4.455276e+09  6.364679e+08  15.024444  1.314258e-15\n",
      "Residual        193.0  8.175897e+09  4.236216e+07        NaN           NaN\n"
     ]
    }
   ],
   "source": [
    "# perforing ANOVA on the \"fuel_system\" variable \n",
    "rehab_lm = ols('price ~ C(fuel_system)', data=df).fit()\n",
    "table9 = anova_lm(rehab_lm)\n",
    "print(table9)"
   ]
  },
  {
   "cell_type": "markdown",
   "metadata": {},
   "source": [
    "The F-value is 15.02 which indicates that the means are not the same for all the levels in the \"fuel_system\" variable."
   ]
  },
  {
   "cell_type": "code",
   "execution_count": 37,
   "metadata": {
    "scrolled": true
   },
   "outputs": [
    {
     "name": "stdout",
     "output_type": "stream",
     "text": [
      "     Multiple Comparison of Means - Tukey HSD, FWER=0.05     \n",
      "=============================================================\n",
      "group1 group2  meandiff  p-adj     lower      upper    reject\n",
      "-------------------------------------------------------------\n",
      "  1bbl   2bbl  -122.3423    0.9  -6632.3716  6387.6869  False\n",
      "  1bbl   4bbl  4589.4545    0.9  -8401.6383 17580.5474  False\n",
      "  1bbl    idi  8282.6045 0.0188    795.5992 15769.6099   True\n",
      "  1bbl    mfi  5408.4545    0.9 -15423.6391 26240.5481  False\n",
      "  1bbl   mpfi 10049.5958  0.001   3686.5216 16412.6701   True\n",
      "  1bbl   spdi   3434.899    0.9  -5529.8067 12399.6047  False\n",
      "  1bbl   spfi  3492.4545    0.9 -17339.6391 24324.5481  False\n",
      "  2bbl   4bbl  4711.7969    0.9  -7070.3769 16493.9707  False\n",
      "  2bbl    idi  8404.9469  0.001    3295.507 13514.3868   True\n",
      "  2bbl    mfi  5530.7969    0.9 -14569.6322  25631.226  False\n",
      "  2bbl   mpfi 10171.9382  0.001    6925.426 13418.4504   True\n",
      "  2bbl   spdi  3557.2413 0.7607   -3543.257 10657.7396  False\n",
      "  2bbl   spfi  3614.7969    0.9 -16485.6322  23715.226  False\n",
      "  4bbl    idi    3693.15    0.9  -8655.7118 16042.0118  False\n",
      "  4bbl    mfi      819.0    0.9  -22211.746  23849.746  False\n",
      "  4bbl   mpfi  5460.1413 0.8229  -6241.4762 17161.7588  False\n",
      "  4bbl   spdi -1154.5556    0.9  -14451.363 12142.2519  False\n",
      "  4bbl   spfi    -1097.0    0.9  -24127.746  21933.746  False\n",
      "   idi    mfi   -2874.15    0.9 -23311.9096 17563.6096  False\n",
      "   idi   mpfi  1766.9913    0.9   -3153.843  6687.8256  False\n",
      "   idi   spdi -4847.7056 0.5714 -12853.4438  3158.0326  False\n",
      "   idi   spfi   -4790.15    0.9 -25227.9096 15647.6096  False\n",
      "   mfi   mpfi  4641.1413    0.9 -15412.1747 24694.4573  False\n",
      "   mfi   spdi -1973.5556    0.9 -22997.6541  19050.543  False\n",
      "   mfi   spfi    -1916.0    0.9 -30122.7881 26290.7881  False\n",
      "  mpfi   spdi -6614.6969 0.0765 -13580.7079   351.3141  False\n",
      "  mpfi   spfi -6557.1413    0.9 -26610.4573 13496.1747  False\n",
      "  spdi   spfi    57.5556    0.9  -20966.543 21081.6541  False\n",
      "-------------------------------------------------------------\n"
     ]
    }
   ],
   "source": [
    "# tukey kramer test for comparing which two groups have significantly different means\n",
    "print (sm.stats.multicomp.pairwise_tukeyhsd(df[\"price\"], df[\"fuel_system\"], alpha=0.05))"
   ]
  },
  {
   "cell_type": "markdown",
   "metadata": {},
   "source": [
    "# Selection of Important Categorical Variables\n",
    "\n",
    "Only those categorical variables that have significantly different means among the levels of that categorical variable can be selected as  important variables for analysis. They are as follows: <ul>\n",
    " <li> \"make\"</li>\n",
    "<li> \"body_style\"</li>\n",
    "<li> \"aspiration\"</li>\n",
    "<li> \"drive_wheels\"</li>\n",
    "<li>\"engine_location\"</li>\n",
    "\n",
    "These categorical variables might be important predictors of \"price\" (target variable)</ul>"
   ]
  },
  {
   "cell_type": "code",
   "execution_count": 38,
   "metadata": {},
   "outputs": [],
   "source": [
    "# making a list of significant categorical variable\n",
    "sign_cat_var = [\"make\",\"body_style\",\"engine_location\",\"aspiration\",\"drive_wheels\"]"
   ]
  },
  {
   "cell_type": "markdown",
   "metadata": {},
   "source": [
    "### Pivot Tables help us in involving multiple categorical variables for analysis"
   ]
  },
  {
   "cell_type": "code",
   "execution_count": 39,
   "metadata": {},
   "outputs": [
    {
     "data": {
      "text/html": [
       "<div>\n",
       "<style scoped>\n",
       "    .dataframe tbody tr th:only-of-type {\n",
       "        vertical-align: middle;\n",
       "    }\n",
       "\n",
       "    .dataframe tbody tr th {\n",
       "        vertical-align: top;\n",
       "    }\n",
       "\n",
       "    .dataframe thead tr th {\n",
       "        text-align: left;\n",
       "    }\n",
       "\n",
       "    .dataframe thead tr:last-of-type th {\n",
       "        text-align: right;\n",
       "    }\n",
       "</style>\n",
       "<table border=\"1\" class=\"dataframe\">\n",
       "  <thead>\n",
       "    <tr>\n",
       "      <th></th>\n",
       "      <th colspan=\"5\" halign=\"left\">price</th>\n",
       "    </tr>\n",
       "    <tr>\n",
       "      <th>body_style</th>\n",
       "      <th>convertible</th>\n",
       "      <th>hardtop</th>\n",
       "      <th>hatchback</th>\n",
       "      <th>sedan</th>\n",
       "      <th>wagon</th>\n",
       "    </tr>\n",
       "    <tr>\n",
       "      <th>engine_location</th>\n",
       "      <th></th>\n",
       "      <th></th>\n",
       "      <th></th>\n",
       "      <th></th>\n",
       "      <th></th>\n",
       "    </tr>\n",
       "  </thead>\n",
       "  <tbody>\n",
       "    <tr>\n",
       "      <th>front</th>\n",
       "      <td>18863</td>\n",
       "      <td>18518.666667</td>\n",
       "      <td>9957.441176</td>\n",
       "      <td>14459.755319</td>\n",
       "      <td>12371.96</td>\n",
       "    </tr>\n",
       "    <tr>\n",
       "      <th>rear</th>\n",
       "      <td>37028</td>\n",
       "      <td>33278.000000</td>\n",
       "      <td>0.000000</td>\n",
       "      <td>0.000000</td>\n",
       "      <td>0.00</td>\n",
       "    </tr>\n",
       "  </tbody>\n",
       "</table>\n",
       "</div>"
      ],
      "text/plain": [
       "                      price                                                   \n",
       "body_style      convertible       hardtop    hatchback         sedan     wagon\n",
       "engine_location                                                               \n",
       "front                 18863  18518.666667  9957.441176  14459.755319  12371.96\n",
       "rear                  37028  33278.000000     0.000000      0.000000      0.00"
      ]
     },
     "execution_count": 39,
     "metadata": {},
     "output_type": "execute_result"
    }
   ],
   "source": [
    "# creating pivot tables for \"engine_location\",\"body_style\" having values filled with averge \"price\"\n",
    "table0= pd.pivot_table(df, values=['price'], index=['engine_location'], columns = [\"body_style\"], aggfunc={'price': np.mean},fill_value=0)\n",
    "table0= pd.DataFrame(data=table0)\n",
    "table0"
   ]
  },
  {
   "cell_type": "markdown",
   "metadata": {},
   "source": [
    "From above pivot table, it can be seen that \"convertible\" and \"hardtop\" have the highest average price, followed by \"sedan\", \"wagon\" and \"hatchback\" which has the lowest averge price. The \"rear\" engine_location cars have a higher average price as compared to the \"front\" engine_location car."
   ]
  },
  {
   "cell_type": "code",
   "execution_count": 40,
   "metadata": {},
   "outputs": [
    {
     "data": {
      "text/html": [
       "<div>\n",
       "<style scoped>\n",
       "    .dataframe tbody tr th:only-of-type {\n",
       "        vertical-align: middle;\n",
       "    }\n",
       "\n",
       "    .dataframe tbody tr th {\n",
       "        vertical-align: top;\n",
       "    }\n",
       "\n",
       "    .dataframe thead tr th {\n",
       "        text-align: left;\n",
       "    }\n",
       "\n",
       "    .dataframe thead tr:last-of-type th {\n",
       "        text-align: right;\n",
       "    }\n",
       "</style>\n",
       "<table border=\"1\" class=\"dataframe\">\n",
       "  <thead>\n",
       "    <tr>\n",
       "      <th></th>\n",
       "      <th colspan=\"6\" halign=\"left\">price</th>\n",
       "    </tr>\n",
       "    <tr>\n",
       "      <th>aspiration</th>\n",
       "      <th colspan=\"3\" halign=\"left\">std</th>\n",
       "      <th colspan=\"3\" halign=\"left\">turbo</th>\n",
       "    </tr>\n",
       "    <tr>\n",
       "      <th>drive_wheels</th>\n",
       "      <th>4wd</th>\n",
       "      <th>fwd</th>\n",
       "      <th>rwd</th>\n",
       "      <th>4wd</th>\n",
       "      <th>fwd</th>\n",
       "      <th>rwd</th>\n",
       "    </tr>\n",
       "    <tr>\n",
       "      <th>engine_location</th>\n",
       "      <th></th>\n",
       "      <th></th>\n",
       "      <th></th>\n",
       "      <th></th>\n",
       "      <th></th>\n",
       "      <th></th>\n",
       "    </tr>\n",
       "  </thead>\n",
       "  <tbody>\n",
       "    <tr>\n",
       "      <th>front</th>\n",
       "      <td>9829.166667</td>\n",
       "      <td>8724.029412</td>\n",
       "      <td>18834.259259</td>\n",
       "      <td>11476.5</td>\n",
       "      <td>12564.5625</td>\n",
       "      <td>20065.944444</td>\n",
       "    </tr>\n",
       "    <tr>\n",
       "      <th>rear</th>\n",
       "      <td>0.000000</td>\n",
       "      <td>0.000000</td>\n",
       "      <td>34528.000000</td>\n",
       "      <td>0.0</td>\n",
       "      <td>0.0000</td>\n",
       "      <td>0.000000</td>\n",
       "    </tr>\n",
       "  </tbody>\n",
       "</table>\n",
       "</div>"
      ],
      "text/plain": [
       "                       price                                                  \\\n",
       "aspiration               std                               turbo               \n",
       "drive_wheels             4wd          fwd           rwd      4wd         fwd   \n",
       "engine_location                                                                \n",
       "front            9829.166667  8724.029412  18834.259259  11476.5  12564.5625   \n",
       "rear                0.000000     0.000000  34528.000000      0.0      0.0000   \n",
       "\n",
       "                               \n",
       "aspiration                     \n",
       "drive_wheels              rwd  \n",
       "engine_location                \n",
       "front            20065.944444  \n",
       "rear                 0.000000  "
      ]
     },
     "execution_count": 40,
     "metadata": {},
     "output_type": "execute_result"
    }
   ],
   "source": [
    "# creating pivot tables for \"engine_location\",\"aspiration\" and \"drive_wheels\" having values filled with averge \"price\"\n",
    "table1 = pd.pivot_table(df, values=['price'], index=['engine_location'], columns = [\"aspiration\",\"drive_wheels\"], aggfunc={'price': np.mean},fill_value=0)\n",
    "table1 = pd.DataFrame(data=table1)\n",
    "table1"
   ]
  },
  {
   "cell_type": "markdown",
   "metadata": {},
   "source": [
    "From the above pivot table, it can be seen that the average price for \"std\" aspiration has is lesser than the \"turbo\"aspiration cars."
   ]
  },
  {
   "cell_type": "code",
   "execution_count": 41,
   "metadata": {},
   "outputs": [
    {
     "data": {
      "text/html": [
       "<div>\n",
       "<style scoped>\n",
       "    .dataframe tbody tr th:only-of-type {\n",
       "        vertical-align: middle;\n",
       "    }\n",
       "\n",
       "    .dataframe tbody tr th {\n",
       "        vertical-align: top;\n",
       "    }\n",
       "\n",
       "    .dataframe thead tr th {\n",
       "        text-align: left;\n",
       "    }\n",
       "\n",
       "    .dataframe thead tr:last-of-type th {\n",
       "        text-align: right;\n",
       "    }\n",
       "</style>\n",
       "<table border=\"1\" class=\"dataframe\">\n",
       "  <thead>\n",
       "    <tr>\n",
       "      <th></th>\n",
       "      <th colspan=\"2\" halign=\"left\">price</th>\n",
       "    </tr>\n",
       "    <tr>\n",
       "      <th>aspiration</th>\n",
       "      <th>std</th>\n",
       "      <th>turbo</th>\n",
       "    </tr>\n",
       "    <tr>\n",
       "      <th>make</th>\n",
       "      <th></th>\n",
       "      <th></th>\n",
       "    </tr>\n",
       "  </thead>\n",
       "  <tbody>\n",
       "    <tr>\n",
       "      <th>alfa-romero</th>\n",
       "      <td>15498.333333</td>\n",
       "      <td>0.000000</td>\n",
       "    </tr>\n",
       "    <tr>\n",
       "      <th>audi</th>\n",
       "      <td>16656.000000</td>\n",
       "      <td>23875.000000</td>\n",
       "    </tr>\n",
       "    <tr>\n",
       "      <th>bmw</th>\n",
       "      <td>26118.750000</td>\n",
       "      <td>0.000000</td>\n",
       "    </tr>\n",
       "    <tr>\n",
       "      <th>chevrolet</th>\n",
       "      <td>6007.000000</td>\n",
       "      <td>0.000000</td>\n",
       "    </tr>\n",
       "    <tr>\n",
       "      <th>dodge</th>\n",
       "      <td>6900.000000</td>\n",
       "      <td>9826.333333</td>\n",
       "    </tr>\n",
       "    <tr>\n",
       "      <th>honda</th>\n",
       "      <td>8184.692308</td>\n",
       "      <td>0.000000</td>\n",
       "    </tr>\n",
       "    <tr>\n",
       "      <th>isuzu</th>\n",
       "      <td>8916.500000</td>\n",
       "      <td>0.000000</td>\n",
       "    </tr>\n",
       "    <tr>\n",
       "      <th>jaguar</th>\n",
       "      <td>34600.000000</td>\n",
       "      <td>0.000000</td>\n",
       "    </tr>\n",
       "    <tr>\n",
       "      <th>mazda</th>\n",
       "      <td>10652.882353</td>\n",
       "      <td>0.000000</td>\n",
       "    </tr>\n",
       "    <tr>\n",
       "      <th>mercedes-benz</th>\n",
       "      <td>38900.000000</td>\n",
       "      <td>28394.000000</td>\n",
       "    </tr>\n",
       "    <tr>\n",
       "      <th>mercury</th>\n",
       "      <td>0.000000</td>\n",
       "      <td>16503.000000</td>\n",
       "    </tr>\n",
       "    <tr>\n",
       "      <th>mitsubishi</th>\n",
       "      <td>7314.714286</td>\n",
       "      <td>11485.666667</td>\n",
       "    </tr>\n",
       "    <tr>\n",
       "      <th>nissan</th>\n",
       "      <td>9869.588235</td>\n",
       "      <td>19699.000000</td>\n",
       "    </tr>\n",
       "    <tr>\n",
       "      <th>peugot</th>\n",
       "      <td>14649.000000</td>\n",
       "      <td>16189.166667</td>\n",
       "    </tr>\n",
       "    <tr>\n",
       "      <th>plymouth</th>\n",
       "      <td>7004.600000</td>\n",
       "      <td>10360.500000</td>\n",
       "    </tr>\n",
       "    <tr>\n",
       "      <th>porsche</th>\n",
       "      <td>31400.500000</td>\n",
       "      <td>0.000000</td>\n",
       "    </tr>\n",
       "    <tr>\n",
       "      <th>renault</th>\n",
       "      <td>9595.000000</td>\n",
       "      <td>0.000000</td>\n",
       "    </tr>\n",
       "    <tr>\n",
       "      <th>saab</th>\n",
       "      <td>13642.500000</td>\n",
       "      <td>18385.000000</td>\n",
       "    </tr>\n",
       "    <tr>\n",
       "      <th>subaru</th>\n",
       "      <td>7954.200000</td>\n",
       "      <td>11476.500000</td>\n",
       "    </tr>\n",
       "    <tr>\n",
       "      <th>toyota</th>\n",
       "      <td>9859.612903</td>\n",
       "      <td>10698.000000</td>\n",
       "    </tr>\n",
       "    <tr>\n",
       "      <th>volkswagen</th>\n",
       "      <td>9759.000000</td>\n",
       "      <td>11670.000000</td>\n",
       "    </tr>\n",
       "    <tr>\n",
       "      <th>volvo</th>\n",
       "      <td>16197.500000</td>\n",
       "      <td>20302.000000</td>\n",
       "    </tr>\n",
       "  </tbody>\n",
       "</table>\n",
       "</div>"
      ],
      "text/plain": [
       "                      price              \n",
       "aspiration              std         turbo\n",
       "make                                     \n",
       "alfa-romero    15498.333333      0.000000\n",
       "audi           16656.000000  23875.000000\n",
       "bmw            26118.750000      0.000000\n",
       "chevrolet       6007.000000      0.000000\n",
       "dodge           6900.000000   9826.333333\n",
       "honda           8184.692308      0.000000\n",
       "isuzu           8916.500000      0.000000\n",
       "jaguar         34600.000000      0.000000\n",
       "mazda          10652.882353      0.000000\n",
       "mercedes-benz  38900.000000  28394.000000\n",
       "mercury            0.000000  16503.000000\n",
       "mitsubishi      7314.714286  11485.666667\n",
       "nissan          9869.588235  19699.000000\n",
       "peugot         14649.000000  16189.166667\n",
       "plymouth        7004.600000  10360.500000\n",
       "porsche        31400.500000      0.000000\n",
       "renault         9595.000000      0.000000\n",
       "saab           13642.500000  18385.000000\n",
       "subaru          7954.200000  11476.500000\n",
       "toyota          9859.612903  10698.000000\n",
       "volkswagen      9759.000000  11670.000000\n",
       "volvo          16197.500000  20302.000000"
      ]
     },
     "execution_count": 41,
     "metadata": {},
     "output_type": "execute_result"
    }
   ],
   "source": [
    "# creating pivot tables for \"make\",\"aspiration\" having values filled with averge \"price\"\n",
    "table2 = pd.pivot_table(df, values=['price'], index=['make'], columns = [\"aspiration\"], aggfunc={'price': np.mean},fill_value=0)\n",
    "table2 = pd.DataFrame(data=table2)\n",
    "table2"
   ]
  },
  {
   "cell_type": "markdown",
   "metadata": {},
   "source": [
    "From the above pivot table, it can be seen that the \"make\" has a signinficant influence on the target variable\"price\". It can also be seen that \"std\" aspiration has lower price than that of \"turbo\" aspiration. "
   ]
  },
  {
   "cell_type": "code",
   "execution_count": 42,
   "metadata": {},
   "outputs": [
    {
     "data": {
      "text/html": [
       "<div>\n",
       "<style scoped>\n",
       "    .dataframe tbody tr th:only-of-type {\n",
       "        vertical-align: middle;\n",
       "    }\n",
       "\n",
       "    .dataframe tbody tr th {\n",
       "        vertical-align: top;\n",
       "    }\n",
       "\n",
       "    .dataframe thead tr th {\n",
       "        text-align: left;\n",
       "    }\n",
       "\n",
       "    .dataframe thead tr:last-of-type th {\n",
       "        text-align: right;\n",
       "    }\n",
       "</style>\n",
       "<table border=\"1\" class=\"dataframe\">\n",
       "  <thead>\n",
       "    <tr>\n",
       "      <th></th>\n",
       "      <th colspan=\"5\" halign=\"left\">price</th>\n",
       "    </tr>\n",
       "    <tr>\n",
       "      <th>body_style</th>\n",
       "      <th>convertible</th>\n",
       "      <th>hardtop</th>\n",
       "      <th>hatchback</th>\n",
       "      <th>sedan</th>\n",
       "      <th>wagon</th>\n",
       "    </tr>\n",
       "    <tr>\n",
       "      <th>drive_wheels</th>\n",
       "      <th></th>\n",
       "      <th></th>\n",
       "      <th></th>\n",
       "      <th></th>\n",
       "      <th></th>\n",
       "    </tr>\n",
       "  </thead>\n",
       "  <tbody>\n",
       "    <tr>\n",
       "      <th>4wd</th>\n",
       "      <td>0.0</td>\n",
       "      <td>0.000000</td>\n",
       "      <td>7603.000000</td>\n",
       "      <td>12647.333333</td>\n",
       "      <td>9095.750000</td>\n",
       "    </tr>\n",
       "    <tr>\n",
       "      <th>fwd</th>\n",
       "      <td>11595.0</td>\n",
       "      <td>8249.000000</td>\n",
       "      <td>8396.387755</td>\n",
       "      <td>9811.800000</td>\n",
       "      <td>9997.333333</td>\n",
       "    </tr>\n",
       "    <tr>\n",
       "      <th>rwd</th>\n",
       "      <td>23949.6</td>\n",
       "      <td>24202.714286</td>\n",
       "      <td>14337.777778</td>\n",
       "      <td>21711.833333</td>\n",
       "      <td>16994.222222</td>\n",
       "    </tr>\n",
       "  </tbody>\n",
       "</table>\n",
       "</div>"
      ],
      "text/plain": [
       "                   price                                            \\\n",
       "body_style   convertible       hardtop     hatchback         sedan   \n",
       "drive_wheels                                                         \n",
       "4wd                  0.0      0.000000   7603.000000  12647.333333   \n",
       "fwd              11595.0   8249.000000   8396.387755   9811.800000   \n",
       "rwd              23949.6  24202.714286  14337.777778  21711.833333   \n",
       "\n",
       "                            \n",
       "body_style           wagon  \n",
       "drive_wheels                \n",
       "4wd            9095.750000  \n",
       "fwd            9997.333333  \n",
       "rwd           16994.222222  "
      ]
     },
     "execution_count": 42,
     "metadata": {},
     "output_type": "execute_result"
    }
   ],
   "source": [
    "# creating pivot tables for \"drive_wheels\",\"num_of_cylinders\" having values filled with averge \"price\"\n",
    "table3 = pd.pivot_table(df, values=['price'], index=['drive_wheels'], columns = [\"body_style\"], aggfunc={'price': np.mean}, fill_value=0)\n",
    "table3 = pd.DataFrame(data=table3)\n",
    "table3"
   ]
  },
  {
   "cell_type": "markdown",
   "metadata": {},
   "source": [
    "# Dealing with Continuous Variables:"
   ]
  },
  {
   "cell_type": "code",
   "execution_count": 43,
   "metadata": {},
   "outputs": [],
   "source": [
    "# defining a variable named cont_var with continuous column names\n",
    "cont_var = [\"wheel_base\",\"length\",\"width\",\"height\",\"curb_weight\",\"engine_size\",\"bore\",\"stroke\",\"compression_ratio\",\"horsepower\",\"peak_rpm\",\"city_mpg\",\"highway_mpg\",\"price\"]"
   ]
  },
  {
   "cell_type": "code",
   "execution_count": 44,
   "metadata": {},
   "outputs": [
    {
     "data": {
      "text/html": [
       "<div>\n",
       "<style scoped>\n",
       "    .dataframe tbody tr th:only-of-type {\n",
       "        vertical-align: middle;\n",
       "    }\n",
       "\n",
       "    .dataframe tbody tr th {\n",
       "        vertical-align: top;\n",
       "    }\n",
       "\n",
       "    .dataframe thead th {\n",
       "        text-align: right;\n",
       "    }\n",
       "</style>\n",
       "<table border=\"1\" class=\"dataframe\">\n",
       "  <thead>\n",
       "    <tr style=\"text-align: right;\">\n",
       "      <th></th>\n",
       "      <th>wheel_base</th>\n",
       "      <th>length</th>\n",
       "      <th>width</th>\n",
       "      <th>height</th>\n",
       "      <th>curb_weight</th>\n",
       "      <th>engine_size</th>\n",
       "      <th>bore</th>\n",
       "      <th>stroke</th>\n",
       "      <th>compression_ratio</th>\n",
       "      <th>horsepower</th>\n",
       "      <th>peak_rpm</th>\n",
       "      <th>city_mpg</th>\n",
       "      <th>highway_mpg</th>\n",
       "      <th>price</th>\n",
       "    </tr>\n",
       "  </thead>\n",
       "  <tbody>\n",
       "    <tr>\n",
       "      <th>wheel_base</th>\n",
       "      <td>1.000000</td>\n",
       "      <td>0.876024</td>\n",
       "      <td>0.814507</td>\n",
       "      <td>0.590742</td>\n",
       "      <td>0.782097</td>\n",
       "      <td>0.572027</td>\n",
       "      <td>0.494231</td>\n",
       "      <td>0.170837</td>\n",
       "      <td>0.250313</td>\n",
       "      <td>0.370220</td>\n",
       "      <td>-0.360069</td>\n",
       "      <td>-0.470606</td>\n",
       "      <td>-0.543304</td>\n",
       "      <td>0.584642</td>\n",
       "    </tr>\n",
       "    <tr>\n",
       "      <th>length</th>\n",
       "      <td>0.876024</td>\n",
       "      <td>1.000000</td>\n",
       "      <td>0.857170</td>\n",
       "      <td>0.492063</td>\n",
       "      <td>0.880665</td>\n",
       "      <td>0.685025</td>\n",
       "      <td>0.609670</td>\n",
       "      <td>0.133184</td>\n",
       "      <td>0.159733</td>\n",
       "      <td>0.580208</td>\n",
       "      <td>-0.286352</td>\n",
       "      <td>-0.665192</td>\n",
       "      <td>-0.698142</td>\n",
       "      <td>0.690628</td>\n",
       "    </tr>\n",
       "    <tr>\n",
       "      <th>width</th>\n",
       "      <td>0.814507</td>\n",
       "      <td>0.857170</td>\n",
       "      <td>1.000000</td>\n",
       "      <td>0.306002</td>\n",
       "      <td>0.866201</td>\n",
       "      <td>0.729436</td>\n",
       "      <td>0.544996</td>\n",
       "      <td>0.187743</td>\n",
       "      <td>0.189867</td>\n",
       "      <td>0.615520</td>\n",
       "      <td>-0.245910</td>\n",
       "      <td>-0.633531</td>\n",
       "      <td>-0.680635</td>\n",
       "      <td>0.751265</td>\n",
       "    </tr>\n",
       "    <tr>\n",
       "      <th>height</th>\n",
       "      <td>0.590742</td>\n",
       "      <td>0.492063</td>\n",
       "      <td>0.306002</td>\n",
       "      <td>1.000000</td>\n",
       "      <td>0.307581</td>\n",
       "      <td>0.074694</td>\n",
       "      <td>0.183479</td>\n",
       "      <td>-0.012918</td>\n",
       "      <td>0.259737</td>\n",
       "      <td>-0.088722</td>\n",
       "      <td>-0.310821</td>\n",
       "      <td>-0.049800</td>\n",
       "      <td>-0.104812</td>\n",
       "      <td>0.135486</td>\n",
       "    </tr>\n",
       "    <tr>\n",
       "      <th>curb_weight</th>\n",
       "      <td>0.782097</td>\n",
       "      <td>0.880665</td>\n",
       "      <td>0.866201</td>\n",
       "      <td>0.307581</td>\n",
       "      <td>1.000000</td>\n",
       "      <td>0.849072</td>\n",
       "      <td>0.644554</td>\n",
       "      <td>0.172128</td>\n",
       "      <td>0.156433</td>\n",
       "      <td>0.757518</td>\n",
       "      <td>-0.279435</td>\n",
       "      <td>-0.749543</td>\n",
       "      <td>-0.794889</td>\n",
       "      <td>0.834415</td>\n",
       "    </tr>\n",
       "    <tr>\n",
       "      <th>engine_size</th>\n",
       "      <td>0.572027</td>\n",
       "      <td>0.685025</td>\n",
       "      <td>0.729436</td>\n",
       "      <td>0.074694</td>\n",
       "      <td>0.849072</td>\n",
       "      <td>1.000000</td>\n",
       "      <td>0.574955</td>\n",
       "      <td>0.238097</td>\n",
       "      <td>0.028889</td>\n",
       "      <td>0.822683</td>\n",
       "      <td>-0.256776</td>\n",
       "      <td>-0.650546</td>\n",
       "      <td>-0.679571</td>\n",
       "      <td>0.872335</td>\n",
       "    </tr>\n",
       "    <tr>\n",
       "      <th>bore</th>\n",
       "      <td>0.494231</td>\n",
       "      <td>0.609670</td>\n",
       "      <td>0.544996</td>\n",
       "      <td>0.183479</td>\n",
       "      <td>0.644554</td>\n",
       "      <td>0.574955</td>\n",
       "      <td>1.000000</td>\n",
       "      <td>-0.051789</td>\n",
       "      <td>0.001605</td>\n",
       "      <td>0.567549</td>\n",
       "      <td>-0.270885</td>\n",
       "      <td>-0.579661</td>\n",
       "      <td>-0.589236</td>\n",
       "      <td>0.543250</td>\n",
       "    </tr>\n",
       "    <tr>\n",
       "      <th>stroke</th>\n",
       "      <td>0.170837</td>\n",
       "      <td>0.133184</td>\n",
       "      <td>0.187743</td>\n",
       "      <td>-0.012918</td>\n",
       "      <td>0.172128</td>\n",
       "      <td>0.238097</td>\n",
       "      <td>-0.051789</td>\n",
       "      <td>1.000000</td>\n",
       "      <td>0.189572</td>\n",
       "      <td>0.096438</td>\n",
       "      <td>-0.113861</td>\n",
       "      <td>0.002485</td>\n",
       "      <td>-0.003105</td>\n",
       "      <td>0.081731</td>\n",
       "    </tr>\n",
       "    <tr>\n",
       "      <th>compression_ratio</th>\n",
       "      <td>0.250313</td>\n",
       "      <td>0.159733</td>\n",
       "      <td>0.189867</td>\n",
       "      <td>0.259737</td>\n",
       "      <td>0.156433</td>\n",
       "      <td>0.028889</td>\n",
       "      <td>0.001605</td>\n",
       "      <td>0.189572</td>\n",
       "      <td>1.000000</td>\n",
       "      <td>-0.215136</td>\n",
       "      <td>-0.435577</td>\n",
       "      <td>0.331425</td>\n",
       "      <td>0.268465</td>\n",
       "      <td>0.071107</td>\n",
       "    </tr>\n",
       "    <tr>\n",
       "      <th>horsepower</th>\n",
       "      <td>0.370220</td>\n",
       "      <td>0.580208</td>\n",
       "      <td>0.615520</td>\n",
       "      <td>-0.088722</td>\n",
       "      <td>0.757518</td>\n",
       "      <td>0.822683</td>\n",
       "      <td>0.567549</td>\n",
       "      <td>0.096438</td>\n",
       "      <td>-0.215136</td>\n",
       "      <td>1.000000</td>\n",
       "      <td>0.107896</td>\n",
       "      <td>-0.822623</td>\n",
       "      <td>-0.804272</td>\n",
       "      <td>0.808552</td>\n",
       "    </tr>\n",
       "    <tr>\n",
       "      <th>peak_rpm</th>\n",
       "      <td>-0.360069</td>\n",
       "      <td>-0.286352</td>\n",
       "      <td>-0.245910</td>\n",
       "      <td>-0.310821</td>\n",
       "      <td>-0.279435</td>\n",
       "      <td>-0.256776</td>\n",
       "      <td>-0.270885</td>\n",
       "      <td>-0.113861</td>\n",
       "      <td>-0.435577</td>\n",
       "      <td>0.107896</td>\n",
       "      <td>1.000000</td>\n",
       "      <td>-0.115243</td>\n",
       "      <td>-0.058616</td>\n",
       "      <td>-0.101350</td>\n",
       "    </tr>\n",
       "    <tr>\n",
       "      <th>city_mpg</th>\n",
       "      <td>-0.470606</td>\n",
       "      <td>-0.665192</td>\n",
       "      <td>-0.633531</td>\n",
       "      <td>-0.049800</td>\n",
       "      <td>-0.749543</td>\n",
       "      <td>-0.650546</td>\n",
       "      <td>-0.579661</td>\n",
       "      <td>0.002485</td>\n",
       "      <td>0.331425</td>\n",
       "      <td>-0.822623</td>\n",
       "      <td>-0.115243</td>\n",
       "      <td>1.000000</td>\n",
       "      <td>0.972044</td>\n",
       "      <td>-0.686571</td>\n",
       "    </tr>\n",
       "    <tr>\n",
       "      <th>highway_mpg</th>\n",
       "      <td>-0.543304</td>\n",
       "      <td>-0.698142</td>\n",
       "      <td>-0.680635</td>\n",
       "      <td>-0.104812</td>\n",
       "      <td>-0.794889</td>\n",
       "      <td>-0.679571</td>\n",
       "      <td>-0.589236</td>\n",
       "      <td>-0.003105</td>\n",
       "      <td>0.268465</td>\n",
       "      <td>-0.804272</td>\n",
       "      <td>-0.058616</td>\n",
       "      <td>0.972044</td>\n",
       "      <td>1.000000</td>\n",
       "      <td>-0.704692</td>\n",
       "    </tr>\n",
       "    <tr>\n",
       "      <th>price</th>\n",
       "      <td>0.584642</td>\n",
       "      <td>0.690628</td>\n",
       "      <td>0.751265</td>\n",
       "      <td>0.135486</td>\n",
       "      <td>0.834415</td>\n",
       "      <td>0.872335</td>\n",
       "      <td>0.543250</td>\n",
       "      <td>0.081731</td>\n",
       "      <td>0.071107</td>\n",
       "      <td>0.808552</td>\n",
       "      <td>-0.101350</td>\n",
       "      <td>-0.686571</td>\n",
       "      <td>-0.704692</td>\n",
       "      <td>1.000000</td>\n",
       "    </tr>\n",
       "  </tbody>\n",
       "</table>\n",
       "</div>"
      ],
      "text/plain": [
       "                   wheel_base    length     width    height  curb_weight  \\\n",
       "wheel_base           1.000000  0.876024  0.814507  0.590742     0.782097   \n",
       "length               0.876024  1.000000  0.857170  0.492063     0.880665   \n",
       "width                0.814507  0.857170  1.000000  0.306002     0.866201   \n",
       "height               0.590742  0.492063  0.306002  1.000000     0.307581   \n",
       "curb_weight          0.782097  0.880665  0.866201  0.307581     1.000000   \n",
       "engine_size          0.572027  0.685025  0.729436  0.074694     0.849072   \n",
       "bore                 0.494231  0.609670  0.544996  0.183479     0.644554   \n",
       "stroke               0.170837  0.133184  0.187743 -0.012918     0.172128   \n",
       "compression_ratio    0.250313  0.159733  0.189867  0.259737     0.156433   \n",
       "horsepower           0.370220  0.580208  0.615520 -0.088722     0.757518   \n",
       "peak_rpm            -0.360069 -0.286352 -0.245910 -0.310821    -0.279435   \n",
       "city_mpg            -0.470606 -0.665192 -0.633531 -0.049800    -0.749543   \n",
       "highway_mpg         -0.543304 -0.698142 -0.680635 -0.104812    -0.794889   \n",
       "price                0.584642  0.690628  0.751265  0.135486     0.834415   \n",
       "\n",
       "                   engine_size      bore    stroke  compression_ratio  \\\n",
       "wheel_base            0.572027  0.494231  0.170837           0.250313   \n",
       "length                0.685025  0.609670  0.133184           0.159733   \n",
       "width                 0.729436  0.544996  0.187743           0.189867   \n",
       "height                0.074694  0.183479 -0.012918           0.259737   \n",
       "curb_weight           0.849072  0.644554  0.172128           0.156433   \n",
       "engine_size           1.000000  0.574955  0.238097           0.028889   \n",
       "bore                  0.574955  1.000000 -0.051789           0.001605   \n",
       "stroke                0.238097 -0.051789  1.000000           0.189572   \n",
       "compression_ratio     0.028889  0.001605  0.189572           1.000000   \n",
       "horsepower            0.822683  0.567549  0.096438          -0.215136   \n",
       "peak_rpm             -0.256776 -0.270885 -0.113861          -0.435577   \n",
       "city_mpg             -0.650546 -0.579661  0.002485           0.331425   \n",
       "highway_mpg          -0.679571 -0.589236 -0.003105           0.268465   \n",
       "price                 0.872335  0.543250  0.081731           0.071107   \n",
       "\n",
       "                   horsepower  peak_rpm  city_mpg  highway_mpg     price  \n",
       "wheel_base           0.370220 -0.360069 -0.470606    -0.543304  0.584642  \n",
       "length               0.580208 -0.286352 -0.665192    -0.698142  0.690628  \n",
       "width                0.615520 -0.245910 -0.633531    -0.680635  0.751265  \n",
       "height              -0.088722 -0.310821 -0.049800    -0.104812  0.135486  \n",
       "curb_weight          0.757518 -0.279435 -0.749543    -0.794889  0.834415  \n",
       "engine_size          0.822683 -0.256776 -0.650546    -0.679571  0.872335  \n",
       "bore                 0.567549 -0.270885 -0.579661    -0.589236  0.543250  \n",
       "stroke               0.096438 -0.113861  0.002485    -0.003105  0.081731  \n",
       "compression_ratio   -0.215136 -0.435577  0.331425     0.268465  0.071107  \n",
       "horsepower           1.000000  0.107896 -0.822623    -0.804272  0.808552  \n",
       "peak_rpm             0.107896  1.000000 -0.115243    -0.058616 -0.101350  \n",
       "city_mpg            -0.822623 -0.115243  1.000000     0.972044 -0.686571  \n",
       "highway_mpg         -0.804272 -0.058616  0.972044     1.000000 -0.704692  \n",
       "price                0.808552 -0.101350 -0.686571    -0.704692  1.000000  "
      ]
     },
     "execution_count": 44,
     "metadata": {},
     "output_type": "execute_result"
    }
   ],
   "source": [
    "# printing correlation table\n",
    "dfc = df[cont_var].corr()\n",
    "dfc"
   ]
  },
  {
   "cell_type": "code",
   "execution_count": 45,
   "metadata": {},
   "outputs": [
    {
     "data": {
      "image/png": "[encoded data removed]",
      "text/plain": [
       "<Figure size 432x288 with 2 Axes>"
      ]
     },
     "metadata": {
      "needs_background": "light"
     },
     "output_type": "display_data"
    }
   ],
   "source": [
    "# printing correlation plot\n",
    "fig, ax = plt.subplots()\n",
    "im = ax.pcolor(dfc, cmap='RdBu')\n",
    "\n",
    "#label names\n",
    "row_labels = cont_var\n",
    "col_labels = dfc.index\n",
    "\n",
    "#move ticks and labels to the center\n",
    "ax.set_xticks(np.arange(dfc.shape[1]) + 0.5, minor=False)\n",
    "ax.set_yticks(np.arange(dfc.shape[0]) + 0.5, minor=False)\n",
    "\n",
    "#insert labels\n",
    "ax.set_xticklabels(row_labels, minor=False)\n",
    "ax.set_yticklabels(col_labels, minor=False)\n",
    "\n",
    "#rotate label if too long\n",
    "plt.xticks(rotation=90)\n",
    "\n",
    "fig.colorbar(im)\n",
    "plt.show()"
   ]
  },
  {
   "cell_type": "code",
   "execution_count": 46,
   "metadata": {
    "scrolled": false
   },
   "outputs": [
    {
     "data": {
      "image/png": "[encoded data removed]",
      "text/plain": [
       "<Figure size 1296x2160 with 13 Axes>"
      ]
     },
     "metadata": {
      "needs_background": "light"
     },
     "output_type": "display_data"
    }
   ],
   "source": [
    "# a loop for printing corelation plots of different dependent variables with target variable \"price\" using loop\n",
    "A = pd.DataFrame(dfc.iloc[13,:])\n",
    "A = np.array(A)\n",
    "\n",
    "p_table=[]\n",
    "for i in range(len(cont_var)):\n",
    "    pearson_coef, p_value = stats.pearsonr(df[cont_var[i]], df['price'])\n",
    "    p_table.append(round(p_value,4))\n",
    "\n",
    "fig = plt.figure() # create figure\n",
    "ax1 = fig.add_subplot(5, 3, 1) \n",
    "ax2 = fig.add_subplot(5, 3, 2) \n",
    "ax3 = fig.add_subplot(5, 3, 3)\n",
    "ax4 = fig.add_subplot(5, 3, 4)\n",
    "ax5 = fig.add_subplot(5, 3, 5) \n",
    "ax6 = fig.add_subplot(5, 3, 6) \n",
    "ax7 = fig.add_subplot(5, 3, 7) \n",
    "ax8 = fig.add_subplot(5, 3, 8) \n",
    "ax9 = fig.add_subplot(5, 3, 9) \n",
    "ax10 = fig.add_subplot(5, 3, 10) \n",
    "ax11 = fig.add_subplot(5, 3, 11) \n",
    "ax12 = fig.add_subplot(5, 3, 12) \n",
    "ax13 = fig.add_subplot(5, 3, 13) \n",
    "\n",
    "\n",
    "a = 18\n",
    "b = 30\n",
    "\n",
    "df.plot.scatter(x=cont_var[0], y='price', color='green', label=str(\"Corr coeff is \"+ str(A[0])+ \"   p_value is \" + str(p_table[0])), ax=ax1, figsize=(a,b));\n",
    "df.plot.scatter(x=cont_var[1], y='price', color='red', label=str(\"Corr coeff is \"+ str(A[1])+ \"   p_value is \" + str(p_table[1])), ax=ax2, figsize=(a,b));\n",
    "df.plot.scatter(x=cont_var[2], y='price', color='green', label=str(\"Corr coeff is \"+ str(A[2])+ \"   p_value is \" + str(p_table[2])), ax=ax3, figsize=(a,b));\n",
    "df.plot.scatter(x=cont_var[3], y='price', color='red', label=str(\"Corr coeff is \"+ str(A[3])+ \"   p_value is \" + str(p_table[3])), ax=ax4, figsize=(a,b));\n",
    "df.plot.scatter(x=cont_var[4], y='price', color='green', label=str(\"Corr coeff is \"+ str(A[4])+ \"   p_value is \" + str(p_table[4])), ax=ax5, figsize=(a,b));\n",
    "df.plot.scatter(x=cont_var[5], y='price', color='green', label=str(\"Corr coeff is \"+ str(A[5])+ \"   p_value is \" + str(p_table[5])), ax=ax6, figsize=(a,b));\n",
    "df.plot.scatter(x=cont_var[6], y='price', color='red', label=str(\"Corr coeff is \"+ str(A[6])+ \"   p_value is \" + str(p_table[6])), ax=ax7, figsize=(a,b));\n",
    "df.plot.scatter(x=cont_var[7], y='price', color='red', label=str(\"Corr coeff is \"+ str(A[7])+ \"   p_value is \" + str(p_table[7])), ax=ax8, figsize=(a,b));\n",
    "df.plot.scatter(x=cont_var[8], y='price', color='red', label=str(\"Corr coeff is \"+ str(A[8])+ \"   p_value is \" + str(p_table[8])), ax=ax9, figsize=(a,b));\n",
    "df.plot.scatter(x=cont_var[9], y='price', color='green', label=str(\"Corr coeff is \"+ str(A[9])+ \"   p_value is \" + str(p_table[9])), ax=ax10, figsize=(a,b));\n",
    "df.plot.scatter(x=cont_var[10], y='price', color='red', label=str(\"Corr coeff is \"+ str(A[10])+ \"   p_value is \" + str(p_table[10])), ax=ax11, figsize=(a,b));\n",
    "df.plot.scatter(x=cont_var[11], y='price', color='red', label=str(\"Corr coeff is \"+ str(A[11])+ \"   p_value is \" + str(p_table[11])), ax=ax12, figsize=(a,b));\n",
    "df.plot.scatter(x=cont_var[12], y='price', color='red', label=str(\"Corr coeff is \"+ str(A[12])+ \"   p_value is \" + str(p_table[12])), ax=ax13, figsize=(a,b));\n"
   ]
  },
  {
   "cell_type": "markdown",
   "metadata": {},
   "source": [
    "### Only those scatterplots which have been shown in green are selected as important variables for Multiple Linear Regression. The criteria for selection is as follows:\n",
    "<ul>\n",
    "<li> The scatter plots must be approximately be linear.</li>\n",
    "<li> Any curvilenear plots must be discarded. </li>\n",
    "<li> A p-value less than 0.05 for significance.</li>\n",
    "<li> A good correlation coefficient (i.e. not near to 0)</li></ul>"
   ]
  },
  {
   "cell_type": "markdown",
   "metadata": {},
   "source": [
    "# Selection of Important Continuous Variables\n",
    "\n",
    "Only thosecontinupus variables satisfy the above conditions can be selected as  important variables for analysis. They are as follows: <ul>\n",
    "<li> \"wheel_base\"</li>\n",
    "<li> \"width\"</li>\n",
    "<li> \"curb_weight\"</li>\n",
    "<li>\"engine_size\"</li>\n",
    "<li>\"bore\"</li>    \n",
    "<li>\"horsepower\"</li></ul><ul>\n",
    "These continuous variables might be important predictors of \"price\" (target variable)</ul>"
   ]
  },
  {
   "cell_type": "code",
   "execution_count": 47,
   "metadata": {},
   "outputs": [],
   "source": [
    "#The significant continuous variables are : \n",
    "sign_cont_var = [\"wheel_base\",\"width\",\"curb_weight\",\"engine_size\",\"bore\",\"horsepower\"]"
   ]
  },
  {
   "cell_type": "code",
   "execution_count": 48,
   "metadata": {},
   "outputs": [],
   "source": [
    "sign_var = sign_cat_var + sign_cont_var+[\"price\"]\n",
    "df_sign = df[sign_var]"
   ]
  },
  {
   "cell_type": "code",
   "execution_count": 49,
   "metadata": {},
   "outputs": [],
   "source": [
    "df_sign.to_csv( \"clean1_project_1.csv\",header=True)"
   ]
  },
  {
   "cell_type": "code",
   "execution_count": null,
   "metadata": {},
   "outputs": [],
   "source": []
  }
 ],
 "metadata": {
  "kernelspec": {
   "display_name": "Python 3",
   "language": "python",
   "name": "python3"
  },
  "language_info": {
   "codemirror_mode": {
    "name": "ipython",
    "version": 3
   },
   "file_extension": ".py",
   "mimetype": "text/x-python",
   "name": "python",
   "nbconvert_exporter": "python",
   "pygments_lexer": "ipython3",
   "version": "3.8.2"
  }
 },
 "nbformat": 4,
 "nbformat_minor": 4
}
