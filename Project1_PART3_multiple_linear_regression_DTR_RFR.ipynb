{
 "cells": [
  {
   "cell_type": "markdown",
   "metadata": {},
   "source": [
    "<h1 align = \"center\">Model Development and Evaluation</h1>\n",
    "<ul>The main target here is the development of Multiple Linear Regression model. Also, new models are developed using Random Forest and Decision Trees algorithms. The basis of comparison/evaluation of all the above models is done using MSE (mean square error).</ul>"
   ]
  },
  {
   "cell_type": "code",
   "execution_count": 1,
   "metadata": {},
   "outputs": [],
   "source": [
    "# importing all the important libraries at once\n",
    "import pandas as pd\n",
    "import numpy as np\n",
    "import matplotlib as mpl\n",
    "import matplotlib.pylab as plt\n",
    "import matplotlib.pyplot as plt\n",
    "%matplotlib inline\n",
    "import seaborn as sns\n",
    "from scipy import stats\n",
    "import statsmodels.formula.api as smf\n",
    "import statsmodels.api as sm\n",
    "from sklearn.linear_model import LinearRegression\n",
    "#ignore all the warnings\n",
    "import warnings\n",
    "warnings.filterwarnings('ignore')"
   ]
  },
  {
   "cell_type": "code",
   "execution_count": 2,
   "metadata": {},
   "outputs": [
    {
     "data": {
      "text/html": [
       "<div>\n",
       "<style scoped>\n",
       "    .dataframe tbody tr th:only-of-type {\n",
       "        vertical-align: middle;\n",
       "    }\n",
       "\n",
       "    .dataframe tbody tr th {\n",
       "        vertical-align: top;\n",
       "    }\n",
       "\n",
       "    .dataframe thead th {\n",
       "        text-align: right;\n",
       "    }\n",
       "</style>\n",
       "<table border=\"1\" class=\"dataframe\">\n",
       "  <thead>\n",
       "    <tr style=\"text-align: right;\">\n",
       "      <th></th>\n",
       "      <th>make</th>\n",
       "      <th>body_style</th>\n",
       "      <th>engine_location</th>\n",
       "      <th>aspiration</th>\n",
       "      <th>drive_wheels</th>\n",
       "      <th>wheel_base</th>\n",
       "      <th>width</th>\n",
       "      <th>curb_weight</th>\n",
       "      <th>engine_size</th>\n",
       "      <th>bore</th>\n",
       "      <th>horsepower</th>\n",
       "      <th>price</th>\n",
       "    </tr>\n",
       "  </thead>\n",
       "  <tbody>\n",
       "    <tr>\n",
       "      <th>0</th>\n",
       "      <td>alfa-romero</td>\n",
       "      <td>convertible</td>\n",
       "      <td>front</td>\n",
       "      <td>std</td>\n",
       "      <td>rwd</td>\n",
       "      <td>88.6</td>\n",
       "      <td>64.1</td>\n",
       "      <td>2548</td>\n",
       "      <td>130</td>\n",
       "      <td>3.47</td>\n",
       "      <td>111.0</td>\n",
       "      <td>13495.0</td>\n",
       "    </tr>\n",
       "    <tr>\n",
       "      <th>1</th>\n",
       "      <td>alfa-romero</td>\n",
       "      <td>convertible</td>\n",
       "      <td>front</td>\n",
       "      <td>std</td>\n",
       "      <td>rwd</td>\n",
       "      <td>88.6</td>\n",
       "      <td>64.1</td>\n",
       "      <td>2548</td>\n",
       "      <td>130</td>\n",
       "      <td>3.47</td>\n",
       "      <td>111.0</td>\n",
       "      <td>16500.0</td>\n",
       "    </tr>\n",
       "    <tr>\n",
       "      <th>2</th>\n",
       "      <td>alfa-romero</td>\n",
       "      <td>hatchback</td>\n",
       "      <td>front</td>\n",
       "      <td>std</td>\n",
       "      <td>rwd</td>\n",
       "      <td>94.5</td>\n",
       "      <td>65.5</td>\n",
       "      <td>2823</td>\n",
       "      <td>152</td>\n",
       "      <td>2.68</td>\n",
       "      <td>154.0</td>\n",
       "      <td>16500.0</td>\n",
       "    </tr>\n",
       "    <tr>\n",
       "      <th>3</th>\n",
       "      <td>audi</td>\n",
       "      <td>sedan</td>\n",
       "      <td>front</td>\n",
       "      <td>std</td>\n",
       "      <td>fwd</td>\n",
       "      <td>99.8</td>\n",
       "      <td>66.2</td>\n",
       "      <td>2337</td>\n",
       "      <td>109</td>\n",
       "      <td>3.19</td>\n",
       "      <td>102.0</td>\n",
       "      <td>13950.0</td>\n",
       "    </tr>\n",
       "    <tr>\n",
       "      <th>4</th>\n",
       "      <td>audi</td>\n",
       "      <td>sedan</td>\n",
       "      <td>front</td>\n",
       "      <td>std</td>\n",
       "      <td>4wd</td>\n",
       "      <td>99.4</td>\n",
       "      <td>66.4</td>\n",
       "      <td>2824</td>\n",
       "      <td>136</td>\n",
       "      <td>3.19</td>\n",
       "      <td>115.0</td>\n",
       "      <td>17450.0</td>\n",
       "    </tr>\n",
       "  </tbody>\n",
       "</table>\n",
       "</div>"
      ],
      "text/plain": [
       "          make   body_style engine_location aspiration drive_wheels  \\\n",
       "0  alfa-romero  convertible           front        std          rwd   \n",
       "1  alfa-romero  convertible           front        std          rwd   \n",
       "2  alfa-romero    hatchback           front        std          rwd   \n",
       "3         audi        sedan           front        std          fwd   \n",
       "4         audi        sedan           front        std          4wd   \n",
       "\n",
       "   wheel_base  width  curb_weight  engine_size  bore  horsepower    price  \n",
       "0        88.6   64.1         2548          130  3.47       111.0  13495.0  \n",
       "1        88.6   64.1         2548          130  3.47       111.0  16500.0  \n",
       "2        94.5   65.5         2823          152  2.68       154.0  16500.0  \n",
       "3        99.8   66.2         2337          109  3.19       102.0  13950.0  \n",
       "4        99.4   66.4         2824          136  3.19       115.0  17450.0  "
      ]
     },
     "execution_count": 2,
     "metadata": {},
     "output_type": "execute_result"
    }
   ],
   "source": [
    "#specifying filepath and reading the data\n",
    "file=\"D:/Python_DataScience/pandas-demo/Project1/clean1_project_1.csv\"\n",
    "df = pd.read_csv(file)\n",
    "df = df.iloc[:,1:]\n",
    "df.head()"
   ]
  },
  {
   "cell_type": "code",
   "execution_count": 3,
   "metadata": {},
   "outputs": [
    {
     "data": {
      "image/png": "[encoded data removed]",
      "text/plain": [
       "<Figure size 1440x2160 with 6 Axes>"
      ]
     },
     "metadata": {
      "needs_background": "light"
     },
     "output_type": "display_data"
    }
   ],
   "source": [
    "fig = plt.figure(figsize=(20,30)) # create figure\n",
    "# specifying subplots\n",
    "ax1 = fig.add_subplot(5, 3, 1) \n",
    "ax2 = fig.add_subplot(5, 3, 2) \n",
    "ax3 = fig.add_subplot(5, 3, 3) \n",
    "ax4 = fig.add_subplot(5, 3, 4) \n",
    "ax5 = fig.add_subplot(5, 3, 5) \n",
    "ax6 = fig.add_subplot(5, 3, 6) \n",
    "\n",
    "dfc = df[[\"wheel_base\",\"width\",\"curb_weight\",\"engine_size\",\"bore\",\"horsepower\"]]\n",
    "\n",
    "#plotting residualplots\n",
    "ax1 = sns.residplot(dfc.iloc[:,0], df['price'],ax=ax1,color = \"green\")\n",
    "ax2 = sns.residplot(dfc.iloc[:,1],df[\"price\"],ax=ax2,color = \"green\")\n",
    "ax3 = sns.residplot(dfc.iloc[:,2], df['price'],ax=ax3,color = \"green\")\n",
    "ax4 = sns.residplot(dfc.iloc[:,3],df[\"price\"],ax=ax4,color = \"green\")\n",
    "ax5= sns.residplot(dfc.iloc[:,4], df['price'],ax=ax5,color = \"red\")\n",
    "ax6= sns.residplot(dfc.iloc[:,5], df['price'],ax=ax6,color = \"green\")\n",
    "\n",
    "plt.show()"
   ]
  },
  {
   "cell_type": "markdown",
   "metadata": {},
   "source": [
    " Multiple Linear Regression requires that the residuals of each of the independent variables be:\n",
    "<li> evenly disrtibuted along the 0 line</li>\n",
    "<li> randomly distributed along the 0 line i.e. no curvilinear shape must be present</li>\n",
    "Hence, only the variables in green plots are qualified to be entered for Multiple Linear Regression"
   ]
  },
  {
   "cell_type": "code",
   "execution_count": 4,
   "metadata": {},
   "outputs": [
    {
     "data": {
      "text/html": [
       "<div>\n",
       "<style scoped>\n",
       "    .dataframe tbody tr th:only-of-type {\n",
       "        vertical-align: middle;\n",
       "    }\n",
       "\n",
       "    .dataframe tbody tr th {\n",
       "        vertical-align: top;\n",
       "    }\n",
       "\n",
       "    .dataframe thead th {\n",
       "        text-align: right;\n",
       "    }\n",
       "</style>\n",
       "<table border=\"1\" class=\"dataframe\">\n",
       "  <thead>\n",
       "    <tr style=\"text-align: right;\">\n",
       "      <th></th>\n",
       "      <th>wheel_base</th>\n",
       "      <th>width</th>\n",
       "      <th>curb_weight</th>\n",
       "      <th>engine_size</th>\n",
       "      <th>horsepower</th>\n",
       "      <th>make_alfa-romero</th>\n",
       "      <th>make_audi</th>\n",
       "      <th>make_bmw</th>\n",
       "      <th>make_chevrolet</th>\n",
       "      <th>make_dodge</th>\n",
       "      <th>...</th>\n",
       "      <th>drive_wheels_rwd</th>\n",
       "      <th>aspiration_std</th>\n",
       "      <th>aspiration_turbo</th>\n",
       "      <th>body_style_convertible</th>\n",
       "      <th>body_style_hardtop</th>\n",
       "      <th>body_style_hatchback</th>\n",
       "      <th>body_style_sedan</th>\n",
       "      <th>body_style_wagon</th>\n",
       "      <th>engine_location_front</th>\n",
       "      <th>engine_location_rear</th>\n",
       "    </tr>\n",
       "  </thead>\n",
       "  <tbody>\n",
       "    <tr>\n",
       "      <th>0</th>\n",
       "      <td>88.6</td>\n",
       "      <td>64.1</td>\n",
       "      <td>2548</td>\n",
       "      <td>130</td>\n",
       "      <td>111.0</td>\n",
       "      <td>1</td>\n",
       "      <td>0</td>\n",
       "      <td>0</td>\n",
       "      <td>0</td>\n",
       "      <td>0</td>\n",
       "      <td>...</td>\n",
       "      <td>1</td>\n",
       "      <td>1</td>\n",
       "      <td>0</td>\n",
       "      <td>1</td>\n",
       "      <td>0</td>\n",
       "      <td>0</td>\n",
       "      <td>0</td>\n",
       "      <td>0</td>\n",
       "      <td>1</td>\n",
       "      <td>0</td>\n",
       "    </tr>\n",
       "    <tr>\n",
       "      <th>1</th>\n",
       "      <td>88.6</td>\n",
       "      <td>64.1</td>\n",
       "      <td>2548</td>\n",
       "      <td>130</td>\n",
       "      <td>111.0</td>\n",
       "      <td>1</td>\n",
       "      <td>0</td>\n",
       "      <td>0</td>\n",
       "      <td>0</td>\n",
       "      <td>0</td>\n",
       "      <td>...</td>\n",
       "      <td>1</td>\n",
       "      <td>1</td>\n",
       "      <td>0</td>\n",
       "      <td>1</td>\n",
       "      <td>0</td>\n",
       "      <td>0</td>\n",
       "      <td>0</td>\n",
       "      <td>0</td>\n",
       "      <td>1</td>\n",
       "      <td>0</td>\n",
       "    </tr>\n",
       "    <tr>\n",
       "      <th>2</th>\n",
       "      <td>94.5</td>\n",
       "      <td>65.5</td>\n",
       "      <td>2823</td>\n",
       "      <td>152</td>\n",
       "      <td>154.0</td>\n",
       "      <td>1</td>\n",
       "      <td>0</td>\n",
       "      <td>0</td>\n",
       "      <td>0</td>\n",
       "      <td>0</td>\n",
       "      <td>...</td>\n",
       "      <td>1</td>\n",
       "      <td>1</td>\n",
       "      <td>0</td>\n",
       "      <td>0</td>\n",
       "      <td>0</td>\n",
       "      <td>1</td>\n",
       "      <td>0</td>\n",
       "      <td>0</td>\n",
       "      <td>1</td>\n",
       "      <td>0</td>\n",
       "    </tr>\n",
       "    <tr>\n",
       "      <th>3</th>\n",
       "      <td>99.8</td>\n",
       "      <td>66.2</td>\n",
       "      <td>2337</td>\n",
       "      <td>109</td>\n",
       "      <td>102.0</td>\n",
       "      <td>0</td>\n",
       "      <td>1</td>\n",
       "      <td>0</td>\n",
       "      <td>0</td>\n",
       "      <td>0</td>\n",
       "      <td>...</td>\n",
       "      <td>0</td>\n",
       "      <td>1</td>\n",
       "      <td>0</td>\n",
       "      <td>0</td>\n",
       "      <td>0</td>\n",
       "      <td>0</td>\n",
       "      <td>1</td>\n",
       "      <td>0</td>\n",
       "      <td>1</td>\n",
       "      <td>0</td>\n",
       "    </tr>\n",
       "    <tr>\n",
       "      <th>4</th>\n",
       "      <td>99.4</td>\n",
       "      <td>66.4</td>\n",
       "      <td>2824</td>\n",
       "      <td>136</td>\n",
       "      <td>115.0</td>\n",
       "      <td>0</td>\n",
       "      <td>1</td>\n",
       "      <td>0</td>\n",
       "      <td>0</td>\n",
       "      <td>0</td>\n",
       "      <td>...</td>\n",
       "      <td>0</td>\n",
       "      <td>1</td>\n",
       "      <td>0</td>\n",
       "      <td>0</td>\n",
       "      <td>0</td>\n",
       "      <td>0</td>\n",
       "      <td>1</td>\n",
       "      <td>0</td>\n",
       "      <td>1</td>\n",
       "      <td>0</td>\n",
       "    </tr>\n",
       "    <tr>\n",
       "      <th>...</th>\n",
       "      <td>...</td>\n",
       "      <td>...</td>\n",
       "      <td>...</td>\n",
       "      <td>...</td>\n",
       "      <td>...</td>\n",
       "      <td>...</td>\n",
       "      <td>...</td>\n",
       "      <td>...</td>\n",
       "      <td>...</td>\n",
       "      <td>...</td>\n",
       "      <td>...</td>\n",
       "      <td>...</td>\n",
       "      <td>...</td>\n",
       "      <td>...</td>\n",
       "      <td>...</td>\n",
       "      <td>...</td>\n",
       "      <td>...</td>\n",
       "      <td>...</td>\n",
       "      <td>...</td>\n",
       "      <td>...</td>\n",
       "      <td>...</td>\n",
       "    </tr>\n",
       "    <tr>\n",
       "      <th>196</th>\n",
       "      <td>109.1</td>\n",
       "      <td>68.9</td>\n",
       "      <td>2952</td>\n",
       "      <td>141</td>\n",
       "      <td>114.0</td>\n",
       "      <td>0</td>\n",
       "      <td>0</td>\n",
       "      <td>0</td>\n",
       "      <td>0</td>\n",
       "      <td>0</td>\n",
       "      <td>...</td>\n",
       "      <td>1</td>\n",
       "      <td>1</td>\n",
       "      <td>0</td>\n",
       "      <td>0</td>\n",
       "      <td>0</td>\n",
       "      <td>0</td>\n",
       "      <td>1</td>\n",
       "      <td>0</td>\n",
       "      <td>1</td>\n",
       "      <td>0</td>\n",
       "    </tr>\n",
       "    <tr>\n",
       "      <th>197</th>\n",
       "      <td>109.1</td>\n",
       "      <td>68.8</td>\n",
       "      <td>3049</td>\n",
       "      <td>141</td>\n",
       "      <td>160.0</td>\n",
       "      <td>0</td>\n",
       "      <td>0</td>\n",
       "      <td>0</td>\n",
       "      <td>0</td>\n",
       "      <td>0</td>\n",
       "      <td>...</td>\n",
       "      <td>1</td>\n",
       "      <td>0</td>\n",
       "      <td>1</td>\n",
       "      <td>0</td>\n",
       "      <td>0</td>\n",
       "      <td>0</td>\n",
       "      <td>1</td>\n",
       "      <td>0</td>\n",
       "      <td>1</td>\n",
       "      <td>0</td>\n",
       "    </tr>\n",
       "    <tr>\n",
       "      <th>198</th>\n",
       "      <td>109.1</td>\n",
       "      <td>68.9</td>\n",
       "      <td>3012</td>\n",
       "      <td>173</td>\n",
       "      <td>134.0</td>\n",
       "      <td>0</td>\n",
       "      <td>0</td>\n",
       "      <td>0</td>\n",
       "      <td>0</td>\n",
       "      <td>0</td>\n",
       "      <td>...</td>\n",
       "      <td>1</td>\n",
       "      <td>1</td>\n",
       "      <td>0</td>\n",
       "      <td>0</td>\n",
       "      <td>0</td>\n",
       "      <td>0</td>\n",
       "      <td>1</td>\n",
       "      <td>0</td>\n",
       "      <td>1</td>\n",
       "      <td>0</td>\n",
       "    </tr>\n",
       "    <tr>\n",
       "      <th>199</th>\n",
       "      <td>109.1</td>\n",
       "      <td>68.9</td>\n",
       "      <td>3217</td>\n",
       "      <td>145</td>\n",
       "      <td>106.0</td>\n",
       "      <td>0</td>\n",
       "      <td>0</td>\n",
       "      <td>0</td>\n",
       "      <td>0</td>\n",
       "      <td>0</td>\n",
       "      <td>...</td>\n",
       "      <td>1</td>\n",
       "      <td>0</td>\n",
       "      <td>1</td>\n",
       "      <td>0</td>\n",
       "      <td>0</td>\n",
       "      <td>0</td>\n",
       "      <td>1</td>\n",
       "      <td>0</td>\n",
       "      <td>1</td>\n",
       "      <td>0</td>\n",
       "    </tr>\n",
       "    <tr>\n",
       "      <th>200</th>\n",
       "      <td>109.1</td>\n",
       "      <td>68.9</td>\n",
       "      <td>3062</td>\n",
       "      <td>141</td>\n",
       "      <td>114.0</td>\n",
       "      <td>0</td>\n",
       "      <td>0</td>\n",
       "      <td>0</td>\n",
       "      <td>0</td>\n",
       "      <td>0</td>\n",
       "      <td>...</td>\n",
       "      <td>1</td>\n",
       "      <td>0</td>\n",
       "      <td>1</td>\n",
       "      <td>0</td>\n",
       "      <td>0</td>\n",
       "      <td>0</td>\n",
       "      <td>1</td>\n",
       "      <td>0</td>\n",
       "      <td>1</td>\n",
       "      <td>0</td>\n",
       "    </tr>\n",
       "  </tbody>\n",
       "</table>\n",
       "<p>201 rows × 39 columns</p>\n",
       "</div>"
      ],
      "text/plain": [
       "     wheel_base  width  curb_weight  engine_size  horsepower  \\\n",
       "0          88.6   64.1         2548          130       111.0   \n",
       "1          88.6   64.1         2548          130       111.0   \n",
       "2          94.5   65.5         2823          152       154.0   \n",
       "3          99.8   66.2         2337          109       102.0   \n",
       "4          99.4   66.4         2824          136       115.0   \n",
       "..          ...    ...          ...          ...         ...   \n",
       "196       109.1   68.9         2952          141       114.0   \n",
       "197       109.1   68.8         3049          141       160.0   \n",
       "198       109.1   68.9         3012          173       134.0   \n",
       "199       109.1   68.9         3217          145       106.0   \n",
       "200       109.1   68.9         3062          141       114.0   \n",
       "\n",
       "     make_alfa-romero  make_audi  make_bmw  make_chevrolet  make_dodge  ...  \\\n",
       "0                   1          0         0               0           0  ...   \n",
       "1                   1          0         0               0           0  ...   \n",
       "2                   1          0         0               0           0  ...   \n",
       "3                   0          1         0               0           0  ...   \n",
       "4                   0          1         0               0           0  ...   \n",
       "..                ...        ...       ...             ...         ...  ...   \n",
       "196                 0          0         0               0           0  ...   \n",
       "197                 0          0         0               0           0  ...   \n",
       "198                 0          0         0               0           0  ...   \n",
       "199                 0          0         0               0           0  ...   \n",
       "200                 0          0         0               0           0  ...   \n",
       "\n",
       "     drive_wheels_rwd  aspiration_std  aspiration_turbo  \\\n",
       "0                   1               1                 0   \n",
       "1                   1               1                 0   \n",
       "2                   1               1                 0   \n",
       "3                   0               1                 0   \n",
       "4                   0               1                 0   \n",
       "..                ...             ...               ...   \n",
       "196                 1               1                 0   \n",
       "197                 1               0                 1   \n",
       "198                 1               1                 0   \n",
       "199                 1               0                 1   \n",
       "200                 1               0                 1   \n",
       "\n",
       "     body_style_convertible  body_style_hardtop  body_style_hatchback  \\\n",
       "0                         1                   0                     0   \n",
       "1                         1                   0                     0   \n",
       "2                         0                   0                     1   \n",
       "3                         0                   0                     0   \n",
       "4                         0                   0                     0   \n",
       "..                      ...                 ...                   ...   \n",
       "196                       0                   0                     0   \n",
       "197                       0                   0                     0   \n",
       "198                       0                   0                     0   \n",
       "199                       0                   0                     0   \n",
       "200                       0                   0                     0   \n",
       "\n",
       "     body_style_sedan  body_style_wagon  engine_location_front  \\\n",
       "0                   0                 0                      1   \n",
       "1                   0                 0                      1   \n",
       "2                   0                 0                      1   \n",
       "3                   1                 0                      1   \n",
       "4                   1                 0                      1   \n",
       "..                ...               ...                    ...   \n",
       "196                 1                 0                      1   \n",
       "197                 1                 0                      1   \n",
       "198                 1                 0                      1   \n",
       "199                 1                 0                      1   \n",
       "200                 1                 0                      1   \n",
       "\n",
       "     engine_location_rear  \n",
       "0                       0  \n",
       "1                       0  \n",
       "2                       0  \n",
       "3                       0  \n",
       "4                       0  \n",
       "..                    ...  \n",
       "196                     0  \n",
       "197                     0  \n",
       "198                     0  \n",
       "199                     0  \n",
       "200                     0  \n",
       "\n",
       "[201 rows x 39 columns]"
      ]
     },
     "execution_count": 4,
     "metadata": {},
     "output_type": "execute_result"
    }
   ],
   "source": [
    "X= df[[\"wheel_base\",\"width\",\"curb_weight\",\"engine_size\",\"horsepower\"]]\n",
    "Y = df[\"price\"]\n",
    "#applying dummy variables for categorical independent variables\n",
    "dummies = pd.get_dummies(df[[\"make\",\"drive_wheels\",\"aspiration\",\"body_style\",\"engine_location\"]])\n",
    "dummies\n",
    "# joining the dummy variables with X \n",
    "X = pd.concat([X,dummies], axis=1)\n",
    "X"
   ]
  },
  {
   "cell_type": "code",
   "execution_count": 5,
   "metadata": {},
   "outputs": [
    {
     "name": "stdout",
     "output_type": "stream",
     "text": [
      "number of test samples : 31\n",
      "number of training samples: 170\n"
     ]
    }
   ],
   "source": [
    "# splitting the dataset into test and train datasets \n",
    "from sklearn.model_selection import train_test_split\n",
    "x_train, x_test, y_train, y_test = train_test_split(X, Y, test_size=0.15, random_state=1)\n",
    "\n",
    "print(\"number of test samples :\", x_test.shape[0])\n",
    "print(\"number of training samples:\",x_train.shape[0])"
   ]
  },
  {
   "cell_type": "code",
   "execution_count": 6,
   "metadata": {},
   "outputs": [
    {
     "name": "stdout",
     "output_type": "stream",
     "text": [
      "                            OLS Regression Results                            \n",
      "==============================================================================\n",
      "Dep. Variable:                  price   R-squared:                       0.950\n",
      "Model:                            OLS   Adj. R-squared:                  0.937\n",
      "Method:                 Least Squares   F-statistic:                     75.45\n",
      "Date:                Mon, 21 Dec 2020   Prob (F-statistic):           3.86e-72\n",
      "Time:                        21:22:33   Log-Likelihood:                -1514.5\n",
      "No. Observations:                 170   AIC:                             3099.\n",
      "Df Residuals:                     135   BIC:                             3209.\n",
      "Df Model:                          34                                         \n",
      "Covariance Type:            nonrobust                                         \n",
      "==========================================================================================\n",
      "                             coef    std err          t      P>|t|      [0.025      0.975]\n",
      "------------------------------------------------------------------------------------------\n",
      "wheel_base               120.3497     73.133      1.646      0.102     -24.284     264.984\n",
      "width                    347.6165    249.390      1.394      0.166    -145.600     840.833\n",
      "curb_weight                2.0491      1.409      1.454      0.148      -0.738       4.837\n",
      "engine_size               41.2881     13.054      3.163      0.002      15.471      67.105\n",
      "horsepower                35.4278     12.313      2.877      0.005      11.076      59.780\n",
      "make_alfa-romero       -1653.9448   1340.726     -1.234      0.219   -4305.488     997.598\n",
      "make_audi               1388.2935   1460.677      0.950      0.344   -1500.476    4277.063\n",
      "make_bmw                6587.3662    961.874      6.848      0.000    4685.075    8489.657\n",
      "make_chevrolet          -349.6101   1462.715     -0.239      0.811   -3242.411    2543.191\n",
      "make_dodge             -2441.4587    831.191     -2.937      0.004   -4085.299    -797.618\n",
      "make_honda             -1649.7341    849.441     -1.942      0.054   -3329.667      30.198\n",
      "make_isuzu             -3568.0155   1486.008     -2.401      0.018   -6506.882    -629.149\n",
      "make_jaguar             4383.8737   1752.067      2.502      0.014     918.825    7848.923\n",
      "make_mazda              -920.0133    757.500     -1.215      0.227   -2418.116     578.089\n",
      "make_mercedes-benz      6546.8864   1450.578      4.513      0.000    3678.089    9415.684\n",
      "make_mercury           -4084.7383   2140.086     -1.909      0.058   -8317.169     147.692\n",
      "make_mitsubishi        -3630.8809    766.652     -4.736      0.000   -5147.083   -2114.679\n",
      "make_nissan            -2906.2114    649.396     -4.475      0.000   -4190.517   -1621.906\n",
      "make_peugot            -3867.7324   1274.697     -3.034      0.003   -6388.692   -1346.773\n",
      "make_plymouth          -3192.1410    876.044     -3.644      0.000   -4924.686   -1459.596\n",
      "make_porsche            3887.5566   2114.184      1.839      0.068    -293.650    8068.763\n",
      "make_renault           -4261.0809   1555.021     -2.740      0.007   -7336.434   -1185.727\n",
      "make_saab               -121.1776   1092.366     -0.111      0.912   -2281.541    2039.186\n",
      "make_subaru            -3193.3731    860.618     -3.711      0.000   -4895.411   -1491.335\n",
      "make_toyota            -3002.8785    548.446     -5.475      0.000   -4087.537   -1918.220\n",
      "make_volkswagen        -1771.3444    837.623     -2.115      0.036   -3427.904    -114.784\n",
      "make_volvo             -1124.3920   1053.465     -1.067      0.288   -3207.822     959.038\n",
      "drive_wheels_4wd       -5936.8063   2852.474     -2.081      0.039   -1.16e+04    -295.490\n",
      "drive_wheels_fwd       -7032.0239   2989.372     -2.352      0.020   -1.29e+04   -1119.967\n",
      "drive_wheels_rwd       -5975.9205   3007.925     -1.987      0.049   -1.19e+04     -27.170\n",
      "aspiration_std         -9784.7283   4343.161     -2.253      0.026   -1.84e+04   -1195.293\n",
      "aspiration_turbo       -9160.0224   4345.273     -2.108      0.037   -1.78e+04    -566.410\n",
      "body_style_convertible -1134.5293   1782.747     -0.636      0.526   -4660.254    2391.195\n",
      "body_style_hardtop     -3519.2566   1940.176     -1.814      0.072   -7356.327     317.814\n",
      "body_style_hatchback   -4534.4346   1872.210     -2.422      0.017   -8237.090    -831.780\n",
      "body_style_sedan       -4498.5760   1855.348     -2.425      0.017   -8167.883    -829.269\n",
      "body_style_wagon       -5257.9542   1822.867     -2.884      0.005   -8863.024   -1652.885\n",
      "engine_location_front  -1.368e+04   4782.642     -2.861      0.005   -2.31e+04   -4224.310\n",
      "engine_location_rear   -5261.8460   4279.422     -1.230      0.221   -1.37e+04    3201.534\n",
      "==============================================================================\n",
      "Omnibus:                       65.302   Durbin-Watson:                   2.340\n",
      "Prob(Omnibus):                  0.000   Jarque-Bera (JB):              403.270\n",
      "Skew:                           1.249   Prob(JB):                     2.70e-88\n",
      "Kurtosis:                      10.120   Cond. No.                     1.01e+16\n",
      "==============================================================================\n",
      "\n",
      "Warnings:\n",
      "[1] Standard Errors assume that the covariance matrix of the errors is correctly specified.\n",
      "[2] The smallest eigenvalue is 1.15e-23. This might indicate that there are\n",
      "strong multicollinearity problems or that the design matrix is singular.\n"
     ]
    }
   ],
   "source": [
    "# applying the multiple linear regression model on the dataset  \n",
    "model1= sm.OLS(y_train,x_train)\n",
    "# fitting the model\n",
    "result = model1.fit()\n",
    "# printing the summary\n",
    "print(result.summary())"
   ]
  },
  {
   "cell_type": "markdown",
   "metadata": {},
   "source": [
    "We have an excellent model with adj R squared value coming out to be 0.937. Since, the p-value for \"make_saab\",\"make_chevrolet\",\"make_alfa-romeo\" exceeds 0.05, it is not significant and hence, we can remove it"
   ]
  },
  {
   "cell_type": "code",
   "execution_count": 7,
   "metadata": {},
   "outputs": [],
   "source": [
    "x_train.drop([\"make_saab\",\"make_chevrolet\",\"make_alfa-romero\"],axis = 1,inplace = True)\n",
    "x_test.drop([\"make_saab\",\"make_chevrolet\",\"make_alfa-romero\"],axis = 1,inplace = True)"
   ]
  },
  {
   "cell_type": "code",
   "execution_count": 8,
   "metadata": {},
   "outputs": [
    {
     "name": "stdout",
     "output_type": "stream",
     "text": [
      "                            OLS Regression Results                            \n",
      "==============================================================================\n",
      "Dep. Variable:                  price   R-squared:                       0.950\n",
      "Model:                            OLS   Adj. R-squared:                  0.938\n",
      "Method:                 Least Squares   F-statistic:                     80.87\n",
      "Date:                Mon, 21 Dec 2020   Prob (F-statistic):           6.95e-74\n",
      "Time:                        21:22:33   Log-Likelihood:                -1515.0\n",
      "No. Observations:                 170   AIC:                             3096.\n",
      "Df Residuals:                     137   BIC:                             3199.\n",
      "Df Model:                          32                                         \n",
      "Covariance Type:            nonrobust                                         \n",
      "==========================================================================================\n",
      "                             coef    std err          t      P>|t|      [0.025      0.975]\n",
      "------------------------------------------------------------------------------------------\n",
      "wheel_base               128.3615     72.229      1.777      0.078     -14.466     271.189\n",
      "width                    358.6478    244.824      1.465      0.145    -125.476     842.771\n",
      "curb_weight                2.1320      1.374      1.552      0.123      -0.585       4.849\n",
      "engine_size               38.5222     12.292      3.134      0.002      14.215      62.829\n",
      "horsepower                37.4963     11.994      3.126      0.002      13.780      61.213\n",
      "make_audi               1776.4652   1374.111      1.293      0.198    -940.746    4493.676\n",
      "make_bmw                7294.9521   1233.447      5.914      0.000    4855.896    9734.008\n",
      "make_dodge             -1900.7637   1001.146     -1.899      0.060   -3880.461      78.933\n",
      "make_honda             -1134.8171    971.379     -1.168      0.245   -3055.653     786.019\n",
      "make_isuzu             -2777.7424   1741.552     -1.595      0.113   -6221.542     666.057\n",
      "make_jaguar             5100.5759   1959.019      2.604      0.010    1226.751    8974.401\n",
      "make_mazda              -349.6392    896.950     -0.390      0.697   -2123.297    1424.018\n",
      "make_mercedes-benz      7279.9020   1587.433      4.586      0.000    4140.863    1.04e+04\n",
      "make_mercury           -3524.7196   2244.258     -1.571      0.119   -7962.586     913.147\n",
      "make_mitsubishi        -3128.1875    894.868     -3.496      0.001   -4897.728   -1358.647\n",
      "make_nissan            -2329.0709    860.471     -2.707      0.008   -4030.594    -627.548\n",
      "make_peugot            -3222.1938   1458.063     -2.210      0.029   -6105.413    -338.974\n",
      "make_plymouth          -2616.1330   1079.183     -2.424      0.017   -4750.142    -482.124\n",
      "make_porsche            4577.6232   2253.917      2.031      0.044     120.657    9034.589\n",
      "make_renault           -3753.3006   1631.036     -2.301      0.023   -6978.562    -528.039\n",
      "make_subaru            -2653.8683    997.218     -2.661      0.009   -4625.799    -681.938\n",
      "make_toyota            -2388.8960    811.445     -2.944      0.004   -3993.473    -784.319\n",
      "make_volkswagen        -1241.2426    928.763     -1.336      0.184   -3077.807     595.322\n",
      "make_volvo              -493.3324   1218.841     -0.405      0.686   -2903.507    1916.842\n",
      "drive_wheels_4wd       -6340.2930   2807.764     -2.258      0.026   -1.19e+04    -788.132\n",
      "drive_wheels_fwd       -7404.1928   2957.303     -2.504      0.013   -1.33e+04   -1556.329\n",
      "drive_wheels_rwd       -6608.4556   2913.972     -2.268      0.025   -1.24e+04    -846.277\n",
      "aspiration_std         -1.047e+04   4268.348     -2.453      0.015   -1.89e+04   -2028.511\n",
      "aspiration_turbo       -9884.0655   4258.080     -2.321      0.022   -1.83e+04   -1464.005\n",
      "body_style_convertible -1615.6179   1708.303     -0.946      0.346   -4993.669    1762.433\n",
      "body_style_hardtop     -3743.1815   1926.378     -1.943      0.054   -7552.461      66.097\n",
      "body_style_hatchback   -4737.5962   1849.397     -2.562      0.011   -8394.652   -1080.540\n",
      "body_style_sedan       -4721.5339   1828.963     -2.582      0.011   -8338.182   -1104.886\n",
      "body_style_wagon       -5535.0120   1776.086     -3.116      0.002   -9047.100   -2022.924\n",
      "engine_location_front  -1.447e+04   4674.290     -3.096      0.002   -2.37e+04   -5228.965\n",
      "engine_location_rear   -5880.8892   4229.770     -1.390      0.167   -1.42e+04    2483.191\n",
      "==============================================================================\n",
      "Omnibus:                       64.730   Durbin-Watson:                   2.334\n",
      "Prob(Omnibus):                  0.000   Jarque-Bera (JB):              388.083\n",
      "Skew:                           1.246   Prob(JB):                     5.36e-85\n",
      "Kurtosis:                       9.970   Cond. No.                     1.01e+16\n",
      "==============================================================================\n",
      "\n",
      "Warnings:\n",
      "[1] Standard Errors assume that the covariance matrix of the errors is correctly specified.\n",
      "[2] The smallest eigenvalue is 1.15e-23. This might indicate that there are\n",
      "strong multicollinearity problems or that the design matrix is singular.\n"
     ]
    }
   ],
   "source": [
    "#applying multiple linear regression again and printing the summary\n",
    "model1= sm.OLS(y_train,x_train)\n",
    "result = model1.fit()\n",
    "print(result.summary())"
   ]
  },
  {
   "cell_type": "markdown",
   "metadata": {},
   "source": [
    "There are many independent variables that have p-value greater than 0.05, however, we can stop eliminating more variables as the model we have obtained has adj R squared as 0.938. The model works well"
   ]
  },
  {
   "cell_type": "code",
   "execution_count": 9,
   "metadata": {},
   "outputs": [
    {
     "data": {
      "text/html": [
       "<div>\n",
       "<style scoped>\n",
       "    .dataframe tbody tr th:only-of-type {\n",
       "        vertical-align: middle;\n",
       "    }\n",
       "\n",
       "    .dataframe tbody tr th {\n",
       "        vertical-align: top;\n",
       "    }\n",
       "\n",
       "    .dataframe thead th {\n",
       "        text-align: right;\n",
       "    }\n",
       "</style>\n",
       "<table border=\"1\" class=\"dataframe\">\n",
       "  <thead>\n",
       "    <tr style=\"text-align: right;\">\n",
       "      <th></th>\n",
       "      <th>0</th>\n",
       "    </tr>\n",
       "  </thead>\n",
       "  <tbody>\n",
       "    <tr>\n",
       "      <th>0</th>\n",
       "      <td>9632.545259</td>\n",
       "    </tr>\n",
       "    <tr>\n",
       "      <th>1</th>\n",
       "      <td>5420.767329</td>\n",
       "    </tr>\n",
       "    <tr>\n",
       "      <th>2</th>\n",
       "      <td>12103.447851</td>\n",
       "    </tr>\n",
       "    <tr>\n",
       "      <th>3</th>\n",
       "      <td>6998.483621</td>\n",
       "    </tr>\n",
       "    <tr>\n",
       "      <th>4</th>\n",
       "      <td>12894.764835</td>\n",
       "    </tr>\n",
       "  </tbody>\n",
       "</table>\n",
       "</div>"
      ],
      "text/plain": [
       "              0\n",
       "0   9632.545259\n",
       "1   5420.767329\n",
       "2  12103.447851\n",
       "3   6998.483621\n",
       "4  12894.764835"
      ]
     },
     "execution_count": 9,
     "metadata": {},
     "output_type": "execute_result"
    }
   ],
   "source": [
    "# applying multiple linear regression for prediction on the test dataset\n",
    "lm = LinearRegression()\n",
    "lm\n",
    "lm.fit(x_train,y_train)\n",
    "Yhat=lm.predict(x_test)\n",
    "Yhat = pd.DataFrame(Yhat)\n",
    "# the predicted values\n",
    "Yhat.head()"
   ]
  },
  {
   "cell_type": "code",
   "execution_count": 10,
   "metadata": {},
   "outputs": [
    {
     "data": {
      "text/plain": [
       "<matplotlib.axes._subplots.AxesSubplot at 0x1f3243b8>"
      ]
     },
     "execution_count": 10,
     "metadata": {},
     "output_type": "execute_result"
    },
    {
     "data": {
      "image/png": "[encoded data removed]",
      "text/plain": [
       "<Figure size 432x288 with 1 Axes>"
      ]
     },
     "metadata": {
      "needs_background": "light"
     },
     "output_type": "display_data"
    }
   ],
   "source": [
    "#evaluation using visualization residul plot. Testing Yhat vs y_test\n",
    "sns.residplot(Yhat, y_test,color = \"red\")"
   ]
  },
  {
   "cell_type": "markdown",
   "metadata": {},
   "source": [
    "The trained model works well for the test dataset. The residuals for the test dataset are evenly distributed along the zero line and there is no distinct pattern around the zero line. This suggests that Multiple Linear Regression model works well."
   ]
  },
  {
   "cell_type": "code",
   "execution_count": 11,
   "metadata": {},
   "outputs": [
    {
     "data": {
      "image/png": "[encoded data removed]",
      "text/plain": [
       "<Figure size 720x720 with 1 Axes>"
      ]
     },
     "metadata": {
      "needs_background": "light"
     },
     "output_type": "display_data"
    }
   ],
   "source": [
    "# evaluation using visualization\n",
    "plt.figure(figsize=(10, 10))\n",
    "\n",
    "\n",
    "ax1 = sns.distplot(y_test, hist=False, color=\"r\", label=\"Actual Value\")\n",
    "sns.distplot(Yhat, hist=False, color=\"b\", label=\"Fitted Values\" , ax=ax1)\n",
    "\n",
    "\n",
    "plt.title('Actual vs Fitted Values for Price')\n",
    "plt.xlabel('Price (in dollars)')\n",
    "plt.ylabel('Proportion of Cars')\n",
    "\n",
    "plt.show()\n",
    "plt.close()"
   ]
  },
  {
   "cell_type": "markdown",
   "metadata": {},
   "source": [
    "It seems that there is a bit of a difference in the peak region. Other than that, the predicted curve tries to approach the actual curve. This also suggests that the Multiple Linear Regression model works well."
   ]
  },
  {
   "cell_type": "code",
   "execution_count": 12,
   "metadata": {},
   "outputs": [],
   "source": [
    "from sklearn.metrics import mean_squared_error"
   ]
  },
  {
   "cell_type": "code",
   "execution_count": 13,
   "metadata": {},
   "outputs": [
    {
     "name": "stdout",
     "output_type": "stream",
     "text": [
      "The mean square error of price and predicted value is:  4733006.520059251\n"
     ]
    }
   ],
   "source": [
    "# calculating the mse for Multiple Linear Regression model\n",
    "mse = mean_squared_error(y_test, Yhat)\n",
    "print('The mean square error of price and predicted value is: ', mse)"
   ]
  },
  {
   "cell_type": "markdown",
   "metadata": {},
   "source": [
    "## Decision Tree Regressor\n",
    "<ul> Let us use some advanced algorithms like Decision Tree Regressor for predicting \"price\" values. </ul>"
   ]
  },
  {
   "cell_type": "code",
   "execution_count": 14,
   "metadata": {},
   "outputs": [
    {
     "data": {
      "text/plain": [
       "DecisionTreeRegressor(ccp_alpha=0.0, criterion='mse', max_depth=None,\n",
       "                      max_features=None, max_leaf_nodes=None,\n",
       "                      min_impurity_decrease=0.0, min_impurity_split=None,\n",
       "                      min_samples_leaf=1, min_samples_split=2,\n",
       "                      min_weight_fraction_leaf=0.0, presort='deprecated',\n",
       "                      random_state=1, splitter='best')"
      ]
     },
     "execution_count": 14,
     "metadata": {},
     "output_type": "execute_result"
    }
   ],
   "source": [
    "from sklearn.tree import DecisionTreeRegressor\n",
    "\n",
    "# define model and set random state as 1\n",
    "DTR_model = DecisionTreeRegressor(random_state=1)\n",
    "\n",
    "# fit model on train data\n",
    "DTR_model.fit(x_train, y_train)"
   ]
  },
  {
   "cell_type": "code",
   "execution_count": 15,
   "metadata": {},
   "outputs": [
    {
     "name": "stdout",
     "output_type": "stream",
     "text": [
      "The predictions are\n"
     ]
    },
    {
     "data": {
      "text/plain": [
       "array([ 9960. ,  6229. ,  8495. ,  7349. , 11549. ,  5118. , 12764. ,\n",
       "        6989. , 15985. ,  6855. ,  9988. ,  8249. ,  9639. , 21105. ,\n",
       "       12170. , 11900. ,  5974.5, 18344. ,  7299. ,  7975. , 10295. ,\n",
       "        8238. , 41315. , 11900. ,  5974.5, 35550. , 11549. ,  6095. ,\n",
       "        9988. ,  7799. , 15985. ])"
      ]
     },
     "execution_count": 15,
     "metadata": {},
     "output_type": "execute_result"
    }
   ],
   "source": [
    "# predicitng the model on test data\n",
    "DTR_Yhat = DTR_model.predict(x_test)\n",
    "print(\"The predictions are\")\n",
    "DTR_Yhat"
   ]
  },
  {
   "cell_type": "code",
   "execution_count": 16,
   "metadata": {},
   "outputs": [
    {
     "name": "stdout",
     "output_type": "stream",
     "text": [
      "The mean square error of price and predicted value is:  3644158.8870967743\n"
     ]
    }
   ],
   "source": [
    "# calculating the mse for DTR model for evaluation\n",
    "mse1 = mean_squared_error(y_test, DTR_Yhat)\n",
    "print('The mean square error of price and predicted value is: ', mse1)"
   ]
  },
  {
   "cell_type": "markdown",
   "metadata": {},
   "source": [
    "## Random Forest Regressor\n",
    "<ul> Let us use a bit more advanced algorithm: like Random Forest Regressor for predicting \"price\" values.</ul>"
   ]
  },
  {
   "cell_type": "code",
   "execution_count": 17,
   "metadata": {},
   "outputs": [
    {
     "data": {
      "text/plain": [
       "RandomForestRegressor(bootstrap=True, ccp_alpha=0.0, criterion='mse',\n",
       "                      max_depth=None, max_features='auto', max_leaf_nodes=None,\n",
       "                      max_samples=None, min_impurity_decrease=0.0,\n",
       "                      min_impurity_split=None, min_samples_leaf=1,\n",
       "                      min_samples_split=2, min_weight_fraction_leaf=0.0,\n",
       "                      n_estimators=100, n_jobs=None, oob_score=False,\n",
       "                      random_state=1, verbose=0, warm_start=False)"
      ]
     },
     "execution_count": 17,
     "metadata": {},
     "output_type": "execute_result"
    }
   ],
   "source": [
    "from sklearn.ensemble import RandomForestRegressor\n",
    "# define model and set the random state as 1\n",
    "RFR_model = RandomForestRegressor(random_state=1)\n",
    "# fit the model on train values\n",
    "RFR_model.fit(x_train, y_train)"
   ]
  },
  {
   "cell_type": "code",
   "execution_count": 18,
   "metadata": {},
   "outputs": [
    {
     "data": {
      "text/plain": [
       "array([ 9180.51      ,  6195.32166667,  9062.80833333,  7345.7525    ,\n",
       "       12454.10416667,  6648.1       , 13382.07      ,  7842.7       ,\n",
       "       14943.95666667,  5965.06916667, 10540.245     ,  7293.45833333,\n",
       "       10744.82333333, 18822.9675    , 12175.38440476, 13194.785     ,\n",
       "        5997.59833333, 20160.13      ,  7198.79      ,  8177.12      ,\n",
       "        9230.43      ,  8529.17      , 36980.78      , 13639.685     ,\n",
       "        5959.38      , 36050.85      , 13433.29333333,  6176.58333333,\n",
       "       10414.66333333,  7495.37      , 15500.61      ])"
      ]
     },
     "execution_count": 18,
     "metadata": {},
     "output_type": "execute_result"
    }
   ],
   "source": [
    "# predicting the model using the test dataset\n",
    "RFR_Yhat = RFR_model.predict(x_test)\n",
    "RFR_Yhat"
   ]
  },
  {
   "cell_type": "code",
   "execution_count": 19,
   "metadata": {},
   "outputs": [
    {
     "name": "stdout",
     "output_type": "stream",
     "text": [
      "The mean square error of price and predicted value is:  2474712.724078608\n"
     ]
    }
   ],
   "source": [
    "# calculating the mse for Random Forest Model\n",
    "mse2 = mean_squared_error(y_test, RFR_Yhat)\n",
    "print('The mean square error of price and predicted value is: ', mse2)"
   ]
  },
  {
   "cell_type": "markdown",
   "metadata": {},
   "source": [
    "# Conclusion"
   ]
  },
  {
   "cell_type": "code",
   "execution_count": 20,
   "metadata": {},
   "outputs": [
    {
     "name": "stdout",
     "output_type": "stream",
     "text": [
      "The mean square error using Multiple Linear Regression is:  4733006.520059251\n",
      "The mean square error using Decision Tree Regressor is:  3644158.8870967743\n",
      "The mean square error using Random Forest Regressor is:  2474712.724078608\n"
     ]
    }
   ],
   "source": [
    "print('The mean square error using Multiple Linear Regression is: ', mse)\n",
    "print('The mean square error using Decision Tree Regressor is: ', mse1)\n",
    "print('The mean square error using Random Forest Regressor is: ', mse2)"
   ]
  },
  {
   "cell_type": "markdown",
   "metadata": {},
   "source": [
    "Since the MSE (mean square error) for Random Forest algorithm is the least, Random Forest Regressor is the best model for this problem."
   ]
  }
 ],
 "metadata": {
  "kernelspec": {
   "display_name": "Python 3",
   "language": "python",
   "name": "python3"
  },
  "language_info": {
   "codemirror_mode": {
    "name": "ipython",
    "version": 3
   },
   "file_extension": ".py",
   "mimetype": "text/x-python",
   "name": "python",
   "nbconvert_exporter": "python",
   "pygments_lexer": "ipython3",
   "version": "3.8.2"
  }
 },
 "nbformat": 4,
 "nbformat_minor": 4
}
